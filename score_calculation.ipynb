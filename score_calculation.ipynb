{
  "nbformat": 4,
  "nbformat_minor": 0,
  "metadata": {
    "colab": {
      "name": "evaluate_scores.ipynb",
      "provenance": [],
      "collapsed_sections": []
    },
    "kernelspec": {
      "name": "python3",
      "display_name": "Python 3"
    },
    "language_info": {
      "name": "python"
    },
    "accelerator": "GPU"
  },
  "cells": [
    {
      "cell_type": "code",
      "execution_count": null,
      "metadata": {
        "colab": {
          "base_uri": "https://localhost:8080/"
        },
        "id": "WbE7R9sHRzYf",
        "outputId": "b435972b-7c50-48ef-d498-02b596d04a88"
      },
      "outputs": [
        {
          "output_type": "stream",
          "name": "stdout",
          "text": [
            "Mounted at /content/drive\n"
          ]
        }
      ],
      "source": [
        "from google.colab import drive\n",
        "drive.mount('/content/drive')"
      ]
    },
    {
      "cell_type": "code",
      "source": [
        "!git clone https://github.com/benjaminrike1/social_score_csr_reports.git"
      ],
      "metadata": {
        "colab": {
          "base_uri": "https://localhost:8080/"
        },
        "id": "JSAXYvYZR40T",
        "outputId": "8d1d41db-0b7d-462d-8ddd-951834e44e1f"
      },
      "execution_count": null,
      "outputs": [
        {
          "output_type": "stream",
          "name": "stdout",
          "text": [
            "Cloning into 'social_score_csr_reports'...\n",
            "remote: Enumerating objects: 218, done.\u001b[K\n",
            "remote: Counting objects: 100% (3/3), done.\u001b[K\n",
            "remote: Compressing objects: 100% (3/3), done.\u001b[K\n",
            "remote: Total 218 (delta 0), reused 1 (delta 0), pack-reused 215\u001b[K\n",
            "Receiving objects: 100% (218/218), 701.81 MiB | 42.86 MiB/s, done.\n",
            "Resolving deltas: 100% (69/69), done.\n",
            "Checking out files: 100% (80/80), done.\n"
          ]
        }
      ]
    },
    {
      "cell_type": "code",
      "source": [
        "!pip3 install pickle5"
      ],
      "metadata": {
        "colab": {
          "base_uri": "https://localhost:8080/"
        },
        "id": "07e4scYLiYGc",
        "outputId": "74a09557-c577-4a1c-ce64-00cbccd44eec"
      },
      "execution_count": null,
      "outputs": [
        {
          "output_type": "stream",
          "name": "stdout",
          "text": [
            "Collecting pickle5\n",
            "  Downloading pickle5-0.0.12-cp37-cp37m-manylinux_2_5_x86_64.manylinux1_x86_64.whl (256 kB)\n",
            "\u001b[?25l\r\u001b[K     |█▎                              | 10 kB 30.6 MB/s eta 0:00:01\r\u001b[K     |██▋                             | 20 kB 37.7 MB/s eta 0:00:01\r\u001b[K     |███▉                            | 30 kB 33.8 MB/s eta 0:00:01\r\u001b[K     |█████▏                          | 40 kB 25.2 MB/s eta 0:00:01\r\u001b[K     |██████▍                         | 51 kB 25.3 MB/s eta 0:00:01\r\u001b[K     |███████▊                        | 61 kB 28.3 MB/s eta 0:00:01\r\u001b[K     |█████████                       | 71 kB 22.4 MB/s eta 0:00:01\r\u001b[K     |██████████▎                     | 81 kB 23.3 MB/s eta 0:00:01\r\u001b[K     |███████████▌                    | 92 kB 24.6 MB/s eta 0:00:01\r\u001b[K     |████████████▉                   | 102 kB 26.1 MB/s eta 0:00:01\r\u001b[K     |██████████████                  | 112 kB 26.1 MB/s eta 0:00:01\r\u001b[K     |███████████████▍                | 122 kB 26.1 MB/s eta 0:00:01\r\u001b[K     |████████████████▋               | 133 kB 26.1 MB/s eta 0:00:01\r\u001b[K     |██████████████████              | 143 kB 26.1 MB/s eta 0:00:01\r\u001b[K     |███████████████████▏            | 153 kB 26.1 MB/s eta 0:00:01\r\u001b[K     |████████████████████▌           | 163 kB 26.1 MB/s eta 0:00:01\r\u001b[K     |█████████████████████▊          | 174 kB 26.1 MB/s eta 0:00:01\r\u001b[K     |███████████████████████         | 184 kB 26.1 MB/s eta 0:00:01\r\u001b[K     |████████████████████████▎       | 194 kB 26.1 MB/s eta 0:00:01\r\u001b[K     |█████████████████████████▋      | 204 kB 26.1 MB/s eta 0:00:01\r\u001b[K     |██████████████████████████▉     | 215 kB 26.1 MB/s eta 0:00:01\r\u001b[K     |████████████████████████████▏   | 225 kB 26.1 MB/s eta 0:00:01\r\u001b[K     |█████████████████████████████▍  | 235 kB 26.1 MB/s eta 0:00:01\r\u001b[K     |██████████████████████████████▊ | 245 kB 26.1 MB/s eta 0:00:01\r\u001b[K     |████████████████████████████████| 256 kB 26.1 MB/s eta 0:00:01\r\u001b[K     |████████████████████████████████| 256 kB 26.1 MB/s \n",
            "\u001b[?25hInstalling collected packages: pickle5\n",
            "Successfully installed pickle5-0.0.12\n"
          ]
        }
      ]
    },
    {
      "cell_type": "code",
      "source": [
        "!pip install tensorflow-text"
      ],
      "metadata": {
        "colab": {
          "base_uri": "https://localhost:8080/"
        },
        "id": "gyNBJatOTVlU",
        "outputId": "f48daa95-a26a-462b-faa4-0f4cf0bb2ec0"
      },
      "execution_count": null,
      "outputs": [
        {
          "output_type": "stream",
          "name": "stdout",
          "text": [
            "Collecting tensorflow-text\n",
            "  Downloading tensorflow_text-2.8.2-cp37-cp37m-manylinux_2_12_x86_64.manylinux2010_x86_64.whl (4.9 MB)\n",
            "\u001b[K     |████████████████████████████████| 4.9 MB 17.0 MB/s \n",
            "\u001b[?25hRequirement already satisfied: tensorflow<2.9,>=2.8.0 in /usr/local/lib/python3.7/dist-packages (from tensorflow-text) (2.8.0)\n",
            "Requirement already satisfied: tensorflow-hub>=0.8.0 in /usr/local/lib/python3.7/dist-packages (from tensorflow-text) (0.12.0)\n",
            "Requirement already satisfied: wrapt>=1.11.0 in /usr/local/lib/python3.7/dist-packages (from tensorflow<2.9,>=2.8.0->tensorflow-text) (1.14.0)\n",
            "Requirement already satisfied: libclang>=9.0.1 in /usr/local/lib/python3.7/dist-packages (from tensorflow<2.9,>=2.8.0->tensorflow-text) (14.0.1)\n",
            "Requirement already satisfied: typing-extensions>=3.6.6 in /usr/local/lib/python3.7/dist-packages (from tensorflow<2.9,>=2.8.0->tensorflow-text) (4.2.0)\n",
            "Requirement already satisfied: h5py>=2.9.0 in /usr/local/lib/python3.7/dist-packages (from tensorflow<2.9,>=2.8.0->tensorflow-text) (3.1.0)\n",
            "Requirement already satisfied: keras-preprocessing>=1.1.1 in /usr/local/lib/python3.7/dist-packages (from tensorflow<2.9,>=2.8.0->tensorflow-text) (1.1.2)\n",
            "Requirement already satisfied: absl-py>=0.4.0 in /usr/local/lib/python3.7/dist-packages (from tensorflow<2.9,>=2.8.0->tensorflow-text) (1.0.0)\n",
            "Requirement already satisfied: grpcio<2.0,>=1.24.3 in /usr/local/lib/python3.7/dist-packages (from tensorflow<2.9,>=2.8.0->tensorflow-text) (1.44.0)\n",
            "Requirement already satisfied: tensorflow-io-gcs-filesystem>=0.23.1 in /usr/local/lib/python3.7/dist-packages (from tensorflow<2.9,>=2.8.0->tensorflow-text) (0.25.0)\n",
            "Requirement already satisfied: gast>=0.2.1 in /usr/local/lib/python3.7/dist-packages (from tensorflow<2.9,>=2.8.0->tensorflow-text) (0.5.3)\n",
            "Requirement already satisfied: astunparse>=1.6.0 in /usr/local/lib/python3.7/dist-packages (from tensorflow<2.9,>=2.8.0->tensorflow-text) (1.6.3)\n",
            "Requirement already satisfied: protobuf>=3.9.2 in /usr/local/lib/python3.7/dist-packages (from tensorflow<2.9,>=2.8.0->tensorflow-text) (3.17.3)\n",
            "Requirement already satisfied: tensorboard<2.9,>=2.8 in /usr/local/lib/python3.7/dist-packages (from tensorflow<2.9,>=2.8.0->tensorflow-text) (2.8.0)\n",
            "Requirement already satisfied: termcolor>=1.1.0 in /usr/local/lib/python3.7/dist-packages (from tensorflow<2.9,>=2.8.0->tensorflow-text) (1.1.0)\n",
            "Requirement already satisfied: numpy>=1.20 in /usr/local/lib/python3.7/dist-packages (from tensorflow<2.9,>=2.8.0->tensorflow-text) (1.21.6)\n",
            "Requirement already satisfied: flatbuffers>=1.12 in /usr/local/lib/python3.7/dist-packages (from tensorflow<2.9,>=2.8.0->tensorflow-text) (2.0)\n",
            "Requirement already satisfied: keras<2.9,>=2.8.0rc0 in /usr/local/lib/python3.7/dist-packages (from tensorflow<2.9,>=2.8.0->tensorflow-text) (2.8.0)\n",
            "Requirement already satisfied: opt-einsum>=2.3.2 in /usr/local/lib/python3.7/dist-packages (from tensorflow<2.9,>=2.8.0->tensorflow-text) (3.3.0)\n",
            "Requirement already satisfied: setuptools in /usr/local/lib/python3.7/dist-packages (from tensorflow<2.9,>=2.8.0->tensorflow-text) (57.4.0)\n",
            "Collecting tf-estimator-nightly==2.8.0.dev2021122109\n",
            "  Downloading tf_estimator_nightly-2.8.0.dev2021122109-py2.py3-none-any.whl (462 kB)\n",
            "\u001b[K     |████████████████████████████████| 462 kB 45.4 MB/s \n",
            "\u001b[?25hRequirement already satisfied: google-pasta>=0.1.1 in /usr/local/lib/python3.7/dist-packages (from tensorflow<2.9,>=2.8.0->tensorflow-text) (0.2.0)\n",
            "Requirement already satisfied: six>=1.12.0 in /usr/local/lib/python3.7/dist-packages (from tensorflow<2.9,>=2.8.0->tensorflow-text) (1.15.0)\n",
            "Requirement already satisfied: wheel<1.0,>=0.23.0 in /usr/local/lib/python3.7/dist-packages (from astunparse>=1.6.0->tensorflow<2.9,>=2.8.0->tensorflow-text) (0.37.1)\n",
            "Requirement already satisfied: cached-property in /usr/local/lib/python3.7/dist-packages (from h5py>=2.9.0->tensorflow<2.9,>=2.8.0->tensorflow-text) (1.5.2)\n",
            "Requirement already satisfied: werkzeug>=0.11.15 in /usr/local/lib/python3.7/dist-packages (from tensorboard<2.9,>=2.8->tensorflow<2.9,>=2.8.0->tensorflow-text) (1.0.1)\n",
            "Requirement already satisfied: google-auth-oauthlib<0.5,>=0.4.1 in /usr/local/lib/python3.7/dist-packages (from tensorboard<2.9,>=2.8->tensorflow<2.9,>=2.8.0->tensorflow-text) (0.4.6)\n",
            "Requirement already satisfied: google-auth<3,>=1.6.3 in /usr/local/lib/python3.7/dist-packages (from tensorboard<2.9,>=2.8->tensorflow<2.9,>=2.8.0->tensorflow-text) (1.35.0)\n",
            "Requirement already satisfied: tensorboard-data-server<0.7.0,>=0.6.0 in /usr/local/lib/python3.7/dist-packages (from tensorboard<2.9,>=2.8->tensorflow<2.9,>=2.8.0->tensorflow-text) (0.6.1)\n",
            "Requirement already satisfied: requests<3,>=2.21.0 in /usr/local/lib/python3.7/dist-packages (from tensorboard<2.9,>=2.8->tensorflow<2.9,>=2.8.0->tensorflow-text) (2.23.0)\n",
            "Requirement already satisfied: tensorboard-plugin-wit>=1.6.0 in /usr/local/lib/python3.7/dist-packages (from tensorboard<2.9,>=2.8->tensorflow<2.9,>=2.8.0->tensorflow-text) (1.8.1)\n",
            "Requirement already satisfied: markdown>=2.6.8 in /usr/local/lib/python3.7/dist-packages (from tensorboard<2.9,>=2.8->tensorflow<2.9,>=2.8.0->tensorflow-text) (3.3.6)\n",
            "Requirement already satisfied: cachetools<5.0,>=2.0.0 in /usr/local/lib/python3.7/dist-packages (from google-auth<3,>=1.6.3->tensorboard<2.9,>=2.8->tensorflow<2.9,>=2.8.0->tensorflow-text) (4.2.4)\n",
            "Requirement already satisfied: pyasn1-modules>=0.2.1 in /usr/local/lib/python3.7/dist-packages (from google-auth<3,>=1.6.3->tensorboard<2.9,>=2.8->tensorflow<2.9,>=2.8.0->tensorflow-text) (0.2.8)\n",
            "Requirement already satisfied: rsa<5,>=3.1.4 in /usr/local/lib/python3.7/dist-packages (from google-auth<3,>=1.6.3->tensorboard<2.9,>=2.8->tensorflow<2.9,>=2.8.0->tensorflow-text) (4.8)\n",
            "Requirement already satisfied: requests-oauthlib>=0.7.0 in /usr/local/lib/python3.7/dist-packages (from google-auth-oauthlib<0.5,>=0.4.1->tensorboard<2.9,>=2.8->tensorflow<2.9,>=2.8.0->tensorflow-text) (1.3.1)\n",
            "Requirement already satisfied: importlib-metadata>=4.4 in /usr/local/lib/python3.7/dist-packages (from markdown>=2.6.8->tensorboard<2.9,>=2.8->tensorflow<2.9,>=2.8.0->tensorflow-text) (4.11.3)\n",
            "Requirement already satisfied: zipp>=0.5 in /usr/local/lib/python3.7/dist-packages (from importlib-metadata>=4.4->markdown>=2.6.8->tensorboard<2.9,>=2.8->tensorflow<2.9,>=2.8.0->tensorflow-text) (3.8.0)\n",
            "Requirement already satisfied: pyasn1<0.5.0,>=0.4.6 in /usr/local/lib/python3.7/dist-packages (from pyasn1-modules>=0.2.1->google-auth<3,>=1.6.3->tensorboard<2.9,>=2.8->tensorflow<2.9,>=2.8.0->tensorflow-text) (0.4.8)\n",
            "Requirement already satisfied: urllib3!=1.25.0,!=1.25.1,<1.26,>=1.21.1 in /usr/local/lib/python3.7/dist-packages (from requests<3,>=2.21.0->tensorboard<2.9,>=2.8->tensorflow<2.9,>=2.8.0->tensorflow-text) (1.24.3)\n",
            "Requirement already satisfied: idna<3,>=2.5 in /usr/local/lib/python3.7/dist-packages (from requests<3,>=2.21.0->tensorboard<2.9,>=2.8->tensorflow<2.9,>=2.8.0->tensorflow-text) (2.10)\n",
            "Requirement already satisfied: certifi>=2017.4.17 in /usr/local/lib/python3.7/dist-packages (from requests<3,>=2.21.0->tensorboard<2.9,>=2.8->tensorflow<2.9,>=2.8.0->tensorflow-text) (2021.10.8)\n",
            "Requirement already satisfied: chardet<4,>=3.0.2 in /usr/local/lib/python3.7/dist-packages (from requests<3,>=2.21.0->tensorboard<2.9,>=2.8->tensorflow<2.9,>=2.8.0->tensorflow-text) (3.0.4)\n",
            "Requirement already satisfied: oauthlib>=3.0.0 in /usr/local/lib/python3.7/dist-packages (from requests-oauthlib>=0.7.0->google-auth-oauthlib<0.5,>=0.4.1->tensorboard<2.9,>=2.8->tensorflow<2.9,>=2.8.0->tensorflow-text) (3.2.0)\n",
            "Installing collected packages: tf-estimator-nightly, tensorflow-text\n",
            "Successfully installed tensorflow-text-2.8.2 tf-estimator-nightly-2.8.0.dev2021122109\n"
          ]
        }
      ]
    },
    {
      "cell_type": "code",
      "source": [
        "pip install -q tf-models-official==2.7.0"
      ],
      "metadata": {
        "id": "W4xyksIVTbk9",
        "colab": {
          "base_uri": "https://localhost:8080/"
        },
        "outputId": "389b2068-2d6d-4bf5-842f-100d8b285c7e"
      },
      "execution_count": null,
      "outputs": [
        {
          "output_type": "stream",
          "name": "stdout",
          "text": [
            "\u001b[?25l\r\u001b[K     |▏                               | 10 kB 32.3 MB/s eta 0:00:01\r\u001b[K     |▍                               | 20 kB 35.5 MB/s eta 0:00:01\r\u001b[K     |▌                               | 30 kB 38.3 MB/s eta 0:00:01\r\u001b[K     |▊                               | 40 kB 38.1 MB/s eta 0:00:01\r\u001b[K     |█                               | 51 kB 39.5 MB/s eta 0:00:01\r\u001b[K     |█                               | 61 kB 43.4 MB/s eta 0:00:01\r\u001b[K     |█▎                              | 71 kB 29.2 MB/s eta 0:00:01\r\u001b[K     |█▍                              | 81 kB 30.3 MB/s eta 0:00:01\r\u001b[K     |█▋                              | 92 kB 31.5 MB/s eta 0:00:01\r\u001b[K     |█▉                              | 102 kB 33.2 MB/s eta 0:00:01\r\u001b[K     |██                              | 112 kB 33.2 MB/s eta 0:00:01\r\u001b[K     |██▏                             | 122 kB 33.2 MB/s eta 0:00:01\r\u001b[K     |██▍                             | 133 kB 33.2 MB/s eta 0:00:01\r\u001b[K     |██▌                             | 143 kB 33.2 MB/s eta 0:00:01\r\u001b[K     |██▊                             | 153 kB 33.2 MB/s eta 0:00:01\r\u001b[K     |██▉                             | 163 kB 33.2 MB/s eta 0:00:01\r\u001b[K     |███                             | 174 kB 33.2 MB/s eta 0:00:01\r\u001b[K     |███▎                            | 184 kB 33.2 MB/s eta 0:00:01\r\u001b[K     |███▍                            | 194 kB 33.2 MB/s eta 0:00:01\r\u001b[K     |███▋                            | 204 kB 33.2 MB/s eta 0:00:01\r\u001b[K     |███▉                            | 215 kB 33.2 MB/s eta 0:00:01\r\u001b[K     |████                            | 225 kB 33.2 MB/s eta 0:00:01\r\u001b[K     |████▏                           | 235 kB 33.2 MB/s eta 0:00:01\r\u001b[K     |████▎                           | 245 kB 33.2 MB/s eta 0:00:01\r\u001b[K     |████▌                           | 256 kB 33.2 MB/s eta 0:00:01\r\u001b[K     |████▊                           | 266 kB 33.2 MB/s eta 0:00:01\r\u001b[K     |████▉                           | 276 kB 33.2 MB/s eta 0:00:01\r\u001b[K     |█████                           | 286 kB 33.2 MB/s eta 0:00:01\r\u001b[K     |█████▎                          | 296 kB 33.2 MB/s eta 0:00:01\r\u001b[K     |█████▍                          | 307 kB 33.2 MB/s eta 0:00:01\r\u001b[K     |█████▋                          | 317 kB 33.2 MB/s eta 0:00:01\r\u001b[K     |█████▊                          | 327 kB 33.2 MB/s eta 0:00:01\r\u001b[K     |██████                          | 337 kB 33.2 MB/s eta 0:00:01\r\u001b[K     |██████▏                         | 348 kB 33.2 MB/s eta 0:00:01\r\u001b[K     |██████▎                         | 358 kB 33.2 MB/s eta 0:00:01\r\u001b[K     |██████▌                         | 368 kB 33.2 MB/s eta 0:00:01\r\u001b[K     |██████▊                         | 378 kB 33.2 MB/s eta 0:00:01\r\u001b[K     |██████▉                         | 389 kB 33.2 MB/s eta 0:00:01\r\u001b[K     |███████                         | 399 kB 33.2 MB/s eta 0:00:01\r\u001b[K     |███████▏                        | 409 kB 33.2 MB/s eta 0:00:01\r\u001b[K     |███████▍                        | 419 kB 33.2 MB/s eta 0:00:01\r\u001b[K     |███████▋                        | 430 kB 33.2 MB/s eta 0:00:01\r\u001b[K     |███████▊                        | 440 kB 33.2 MB/s eta 0:00:01\r\u001b[K     |████████                        | 450 kB 33.2 MB/s eta 0:00:01\r\u001b[K     |████████                        | 460 kB 33.2 MB/s eta 0:00:01\r\u001b[K     |████████▎                       | 471 kB 33.2 MB/s eta 0:00:01\r\u001b[K     |████████▌                       | 481 kB 33.2 MB/s eta 0:00:01\r\u001b[K     |████████▋                       | 491 kB 33.2 MB/s eta 0:00:01\r\u001b[K     |████████▉                       | 501 kB 33.2 MB/s eta 0:00:01\r\u001b[K     |█████████                       | 512 kB 33.2 MB/s eta 0:00:01\r\u001b[K     |█████████▏                      | 522 kB 33.2 MB/s eta 0:00:01\r\u001b[K     |█████████▍                      | 532 kB 33.2 MB/s eta 0:00:01\r\u001b[K     |█████████▌                      | 542 kB 33.2 MB/s eta 0:00:01\r\u001b[K     |█████████▊                      | 552 kB 33.2 MB/s eta 0:00:01\r\u001b[K     |██████████                      | 563 kB 33.2 MB/s eta 0:00:01\r\u001b[K     |██████████                      | 573 kB 33.2 MB/s eta 0:00:01\r\u001b[K     |██████████▎                     | 583 kB 33.2 MB/s eta 0:00:01\r\u001b[K     |██████████▌                     | 593 kB 33.2 MB/s eta 0:00:01\r\u001b[K     |██████████▋                     | 604 kB 33.2 MB/s eta 0:00:01\r\u001b[K     |██████████▉                     | 614 kB 33.2 MB/s eta 0:00:01\r\u001b[K     |███████████                     | 624 kB 33.2 MB/s eta 0:00:01\r\u001b[K     |███████████▏                    | 634 kB 33.2 MB/s eta 0:00:01\r\u001b[K     |███████████▍                    | 645 kB 33.2 MB/s eta 0:00:01\r\u001b[K     |███████████▌                    | 655 kB 33.2 MB/s eta 0:00:01\r\u001b[K     |███████████▊                    | 665 kB 33.2 MB/s eta 0:00:01\r\u001b[K     |████████████                    | 675 kB 33.2 MB/s eta 0:00:01\r\u001b[K     |████████████                    | 686 kB 33.2 MB/s eta 0:00:01\r\u001b[K     |████████████▎                   | 696 kB 33.2 MB/s eta 0:00:01\r\u001b[K     |████████████▍                   | 706 kB 33.2 MB/s eta 0:00:01\r\u001b[K     |████████████▋                   | 716 kB 33.2 MB/s eta 0:00:01\r\u001b[K     |████████████▉                   | 727 kB 33.2 MB/s eta 0:00:01\r\u001b[K     |█████████████                   | 737 kB 33.2 MB/s eta 0:00:01\r\u001b[K     |█████████████▏                  | 747 kB 33.2 MB/s eta 0:00:01\r\u001b[K     |█████████████▍                  | 757 kB 33.2 MB/s eta 0:00:01\r\u001b[K     |█████████████▌                  | 768 kB 33.2 MB/s eta 0:00:01\r\u001b[K     |█████████████▊                  | 778 kB 33.2 MB/s eta 0:00:01\r\u001b[K     |█████████████▉                  | 788 kB 33.2 MB/s eta 0:00:01\r\u001b[K     |██████████████                  | 798 kB 33.2 MB/s eta 0:00:01\r\u001b[K     |██████████████▎                 | 808 kB 33.2 MB/s eta 0:00:01\r\u001b[K     |██████████████▍                 | 819 kB 33.2 MB/s eta 0:00:01\r\u001b[K     |██████████████▋                 | 829 kB 33.2 MB/s eta 0:00:01\r\u001b[K     |██████████████▊                 | 839 kB 33.2 MB/s eta 0:00:01\r\u001b[K     |███████████████                 | 849 kB 33.2 MB/s eta 0:00:01\r\u001b[K     |███████████████▏                | 860 kB 33.2 MB/s eta 0:00:01\r\u001b[K     |███████████████▎                | 870 kB 33.2 MB/s eta 0:00:01\r\u001b[K     |███████████████▌                | 880 kB 33.2 MB/s eta 0:00:01\r\u001b[K     |███████████████▊                | 890 kB 33.2 MB/s eta 0:00:01\r\u001b[K     |███████████████▉                | 901 kB 33.2 MB/s eta 0:00:01\r\u001b[K     |████████████████                | 911 kB 33.2 MB/s eta 0:00:01\r\u001b[K     |████████████████▏               | 921 kB 33.2 MB/s eta 0:00:01\r\u001b[K     |████████████████▍               | 931 kB 33.2 MB/s eta 0:00:01\r\u001b[K     |████████████████▋               | 942 kB 33.2 MB/s eta 0:00:01\r\u001b[K     |████████████████▊               | 952 kB 33.2 MB/s eta 0:00:01\r\u001b[K     |█████████████████               | 962 kB 33.2 MB/s eta 0:00:01\r\u001b[K     |█████████████████▏              | 972 kB 33.2 MB/s eta 0:00:01\r\u001b[K     |█████████████████▎              | 983 kB 33.2 MB/s eta 0:00:01\r\u001b[K     |█████████████████▌              | 993 kB 33.2 MB/s eta 0:00:01\r\u001b[K     |█████████████████▋              | 1.0 MB 33.2 MB/s eta 0:00:01\r\u001b[K     |█████████████████▉              | 1.0 MB 33.2 MB/s eta 0:00:01\r\u001b[K     |██████████████████              | 1.0 MB 33.2 MB/s eta 0:00:01\r\u001b[K     |██████████████████▏             | 1.0 MB 33.2 MB/s eta 0:00:01\r\u001b[K     |██████████████████▍             | 1.0 MB 33.2 MB/s eta 0:00:01\r\u001b[K     |██████████████████▋             | 1.1 MB 33.2 MB/s eta 0:00:01\r\u001b[K     |██████████████████▊             | 1.1 MB 33.2 MB/s eta 0:00:01\r\u001b[K     |███████████████████             | 1.1 MB 33.2 MB/s eta 0:00:01\r\u001b[K     |███████████████████             | 1.1 MB 33.2 MB/s eta 0:00:01\r\u001b[K     |███████████████████▎            | 1.1 MB 33.2 MB/s eta 0:00:01\r\u001b[K     |███████████████████▌            | 1.1 MB 33.2 MB/s eta 0:00:01\r\u001b[K     |███████████████████▋            | 1.1 MB 33.2 MB/s eta 0:00:01\r\u001b[K     |███████████████████▉            | 1.1 MB 33.2 MB/s eta 0:00:01\r\u001b[K     |████████████████████            | 1.1 MB 33.2 MB/s eta 0:00:01\r\u001b[K     |████████████████████▏           | 1.1 MB 33.2 MB/s eta 0:00:01\r\u001b[K     |████████████████████▍           | 1.2 MB 33.2 MB/s eta 0:00:01\r\u001b[K     |████████████████████▌           | 1.2 MB 33.2 MB/s eta 0:00:01\r\u001b[K     |████████████████████▊           | 1.2 MB 33.2 MB/s eta 0:00:01\r\u001b[K     |█████████████████████           | 1.2 MB 33.2 MB/s eta 0:00:01\r\u001b[K     |█████████████████████           | 1.2 MB 33.2 MB/s eta 0:00:01\r\u001b[K     |█████████████████████▎          | 1.2 MB 33.2 MB/s eta 0:00:01\r\u001b[K     |█████████████████████▍          | 1.2 MB 33.2 MB/s eta 0:00:01\r\u001b[K     |█████████████████████▋          | 1.2 MB 33.2 MB/s eta 0:00:01\r\u001b[K     |█████████████████████▉          | 1.2 MB 33.2 MB/s eta 0:00:01\r\u001b[K     |██████████████████████          | 1.2 MB 33.2 MB/s eta 0:00:01\r\u001b[K     |██████████████████████▏         | 1.3 MB 33.2 MB/s eta 0:00:01\r\u001b[K     |██████████████████████▍         | 1.3 MB 33.2 MB/s eta 0:00:01\r\u001b[K     |██████████████████████▌         | 1.3 MB 33.2 MB/s eta 0:00:01\r\u001b[K     |██████████████████████▊         | 1.3 MB 33.2 MB/s eta 0:00:01\r\u001b[K     |██████████████████████▉         | 1.3 MB 33.2 MB/s eta 0:00:01\r\u001b[K     |███████████████████████         | 1.3 MB 33.2 MB/s eta 0:00:01\r\u001b[K     |███████████████████████▎        | 1.3 MB 33.2 MB/s eta 0:00:01\r\u001b[K     |███████████████████████▍        | 1.3 MB 33.2 MB/s eta 0:00:01\r\u001b[K     |███████████████████████▋        | 1.3 MB 33.2 MB/s eta 0:00:01\r\u001b[K     |███████████████████████▉        | 1.4 MB 33.2 MB/s eta 0:00:01\r\u001b[K     |████████████████████████        | 1.4 MB 33.2 MB/s eta 0:00:01\r\u001b[K     |████████████████████████▏       | 1.4 MB 33.2 MB/s eta 0:00:01\r\u001b[K     |████████████████████████▎       | 1.4 MB 33.2 MB/s eta 0:00:01\r\u001b[K     |████████████████████████▌       | 1.4 MB 33.2 MB/s eta 0:00:01\r\u001b[K     |████████████████████████▊       | 1.4 MB 33.2 MB/s eta 0:00:01\r\u001b[K     |████████████████████████▉       | 1.4 MB 33.2 MB/s eta 0:00:01\r\u001b[K     |█████████████████████████       | 1.4 MB 33.2 MB/s eta 0:00:01\r\u001b[K     |█████████████████████████▎      | 1.4 MB 33.2 MB/s eta 0:00:01\r\u001b[K     |█████████████████████████▍      | 1.4 MB 33.2 MB/s eta 0:00:01\r\u001b[K     |█████████████████████████▋      | 1.5 MB 33.2 MB/s eta 0:00:01\r\u001b[K     |█████████████████████████▊      | 1.5 MB 33.2 MB/s eta 0:00:01\r\u001b[K     |██████████████████████████      | 1.5 MB 33.2 MB/s eta 0:00:01\r\u001b[K     |██████████████████████████▏     | 1.5 MB 33.2 MB/s eta 0:00:01\r\u001b[K     |██████████████████████████▎     | 1.5 MB 33.2 MB/s eta 0:00:01\r\u001b[K     |██████████████████████████▌     | 1.5 MB 33.2 MB/s eta 0:00:01\r\u001b[K     |██████████████████████████▊     | 1.5 MB 33.2 MB/s eta 0:00:01\r\u001b[K     |██████████████████████████▉     | 1.5 MB 33.2 MB/s eta 0:00:01\r\u001b[K     |███████████████████████████     | 1.5 MB 33.2 MB/s eta 0:00:01\r\u001b[K     |███████████████████████████▏    | 1.5 MB 33.2 MB/s eta 0:00:01\r\u001b[K     |███████████████████████████▍    | 1.6 MB 33.2 MB/s eta 0:00:01\r\u001b[K     |███████████████████████████▋    | 1.6 MB 33.2 MB/s eta 0:00:01\r\u001b[K     |███████████████████████████▊    | 1.6 MB 33.2 MB/s eta 0:00:01\r\u001b[K     |████████████████████████████    | 1.6 MB 33.2 MB/s eta 0:00:01\r\u001b[K     |████████████████████████████▏   | 1.6 MB 33.2 MB/s eta 0:00:01\r\u001b[K     |████████████████████████████▎   | 1.6 MB 33.2 MB/s eta 0:00:01\r\u001b[K     |████████████████████████████▌   | 1.6 MB 33.2 MB/s eta 0:00:01\r\u001b[K     |████████████████████████████▋   | 1.6 MB 33.2 MB/s eta 0:00:01\r\u001b[K     |████████████████████████████▉   | 1.6 MB 33.2 MB/s eta 0:00:01\r\u001b[K     |█████████████████████████████   | 1.6 MB 33.2 MB/s eta 0:00:01\r\u001b[K     |█████████████████████████████▏  | 1.7 MB 33.2 MB/s eta 0:00:01\r\u001b[K     |█████████████████████████████▍  | 1.7 MB 33.2 MB/s eta 0:00:01\r\u001b[K     |█████████████████████████████▌  | 1.7 MB 33.2 MB/s eta 0:00:01\r\u001b[K     |█████████████████████████████▊  | 1.7 MB 33.2 MB/s eta 0:00:01\r\u001b[K     |██████████████████████████████  | 1.7 MB 33.2 MB/s eta 0:00:01\r\u001b[K     |██████████████████████████████  | 1.7 MB 33.2 MB/s eta 0:00:01\r\u001b[K     |██████████████████████████████▎ | 1.7 MB 33.2 MB/s eta 0:00:01\r\u001b[K     |██████████████████████████████▌ | 1.7 MB 33.2 MB/s eta 0:00:01\r\u001b[K     |██████████████████████████████▋ | 1.7 MB 33.2 MB/s eta 0:00:01\r\u001b[K     |██████████████████████████████▉ | 1.8 MB 33.2 MB/s eta 0:00:01\r\u001b[K     |███████████████████████████████ | 1.8 MB 33.2 MB/s eta 0:00:01\r\u001b[K     |███████████████████████████████▏| 1.8 MB 33.2 MB/s eta 0:00:01\r\u001b[K     |███████████████████████████████▍| 1.8 MB 33.2 MB/s eta 0:00:01\r\u001b[K     |███████████████████████████████▌| 1.8 MB 33.2 MB/s eta 0:00:01\r\u001b[K     |███████████████████████████████▊| 1.8 MB 33.2 MB/s eta 0:00:01\r\u001b[K     |████████████████████████████████| 1.8 MB 33.2 MB/s eta 0:00:01\r\u001b[K     |████████████████████████████████| 1.8 MB 33.2 MB/s \n",
            "\u001b[K     |████████████████████████████████| 43 kB 2.3 MB/s \n",
            "\u001b[K     |████████████████████████████████| 1.1 MB 54.8 MB/s \n",
            "\u001b[K     |████████████████████████████████| 352 kB 73.0 MB/s \n",
            "\u001b[K     |████████████████████████████████| 90 kB 12.7 MB/s \n",
            "\u001b[K     |████████████████████████████████| 47.8 MB 81 kB/s \n",
            "\u001b[K     |████████████████████████████████| 1.2 MB 58.6 MB/s \n",
            "\u001b[K     |████████████████████████████████| 596 kB 55.6 MB/s \n",
            "\u001b[K     |████████████████████████████████| 99 kB 10.5 MB/s \n",
            "\u001b[K     |████████████████████████████████| 237 kB 12.2 MB/s \n",
            "\u001b[?25h  Building wheel for py-cpuinfo (setup.py) ... \u001b[?25l\u001b[?25hdone\n",
            "  Building wheel for seqeval (setup.py) ... \u001b[?25l\u001b[?25hdone\n"
          ]
        }
      ]
    },
    {
      "cell_type": "code",
      "source": [
        "import tensorflow as tf\n",
        "import tensorflow_hub as hub\n",
        "import tensorflow_text as text\n",
        "import pandas as pd\n",
        "import pickle5 as pickle"
      ],
      "metadata": {
        "id": "6GYdjrSCSIX_"
      },
      "execution_count": null,
      "outputs": []
    },
    {
      "cell_type": "code",
      "source": [
        "model_path = 'drive/MyDrive/model'\n",
        "reloaded_model = tf.saved_model.load(model_path)\n"
      ],
      "metadata": {
        "id": "s7XhOk1iSBOw"
      },
      "execution_count": null,
      "outputs": []
    },
    {
      "cell_type": "code",
      "source": [
        "def print_my_examples(inputs, results):\n",
        "  print(\"Probabilities is on the format: neutral, positive, negative\")\n",
        "  result_for_printing = \\\n",
        "    [f'input: {inputs[i]:<30} : \\n Probability: neutral: {results[i][0]:.2f}    positive: {results[i][1]:.2f}    negative: {results[i][2]:.2f}'\n",
        "                         for i in range(len(inputs))]\n",
        "  print(*result_for_printing, sep='\\n')\n",
        "  print()\n",
        "\n",
        "\n",
        "examples = [\n",
        "    #Facebook example\n",
        "    'In 2020, we continued to provide a framework of policies, standards, and implementation expectations to guide our supplier business relationships',\n",
        "    'In 2020, we conducted risk assessments to help us identify and prioritize the most critical issue areas and suppliers. ',\n",
        "    #Cola examples\n",
        "    'We invest in charitable and community causes in all of our markets and our people regularly take part in volunteering activities to support social initiatives in our communities.',\n",
        "    'As signatories of the Valuable 500 pledge, we are committed to putting disability on the business leadership agenda',\n",
        "    #Fake examples\n",
        "    'Our diversity was reduced this year',\n",
        "    'Football is a sport',\n",
        "    #Cola examples\n",
        "    'In 2020, 35.6% of leadership positions were held by women, up from 35.5% in 2019. ',\n",
        "    'Zero fatalities occurred during the year',\n",
        "\n",
        "    #SHV Energy\n",
        "    'The launch of our cultural change CARE programme, which will embed ‘the seven health and safety habits’ within our organisation, was another success and', #positive\n",
        "    '22% of our senior leadership team members are women', #negative?\n",
        "    'Our Health and Safety Management System', #neutral\n",
        "    'During the first quarter of 2021, we saw a spike in health and safety incidents', #negative\n",
        "]\n",
        "reloaded_results = tf.nn.softmax(reloaded_model(tf.constant(examples)))\n",
        "\n",
        "print('Results from the model:')\n",
        "print_my_examples(examples, reloaded_results)"
      ],
      "metadata": {
        "colab": {
          "base_uri": "https://localhost:8080/"
        },
        "id": "fmBWFLa9SG6I",
        "outputId": "e91be503-01fe-4611-eb6c-30340a5fbfff"
      },
      "execution_count": null,
      "outputs": [
        {
          "output_type": "stream",
          "name": "stdout",
          "text": [
            "Results from the model:\n",
            "Probabilities is on the format: neutral, positive, negative\n",
            "input: We lowered CO2 emissions this year : \n",
            " Probability: neutral: 0.01    positive: 0.05    negative: 0.93\n",
            "input: We are happy                   : \n",
            " Probability: neutral: 0.80    positive: 0.07    negative: 0.13\n",
            "input: We have seen an increase in the number of fatalities : \n",
            " Probability: neutral: 0.00    positive: 0.02    negative: 0.98\n",
            "\n"
          ]
        }
      ]
    },
    {
      "cell_type": "code",
      "source": [
        "filename = 'social_score_csr_reports/reports_df.pickle'\n",
        "with open(filename, 'rb') as fh:\n",
        "  data = pickle.load(fh)\n",
        "\n",
        "data.drop(labels='text', inplace=True)\n",
        "data.head(5)"
      ],
      "metadata": {
        "colab": {
          "base_uri": "https://localhost:8080/",
          "height": 206
        },
        "id": "mCFWci55Tkl1",
        "outputId": "a1633449-e5af-4a48-e243-e75771fa3e21"
      },
      "execution_count": null,
      "outputs": [
        {
          "output_type": "execute_result",
          "data": {
            "text/plain": [
              "    Company                                               text  \\\n",
              "0   ABNAMRO  ABN AMRO Bank N.V.\\n Integrated  \\nAnnual Repo...   \n",
              "1  Agrifirm  2021 Annual Report\\nBetter\\nTogether\\nA respon...   \n",
              "2  AgroFair  SUSTAINABILITY \\nREPORT 2020\\n- 03 -\\nCONTENT ...   \n",
              "3    Amazon  All In: Staying the Course  \\non Our Commitmen...   \n",
              "4     Armor  CORPORATE  \\nSOCIAL \\nRESPONSIBILITY \\nANNUAL ...   \n",
              "\n",
              "                                           sentences  \n",
              "0  [ABN AMRO Bank N.V. Integrated  Annual Report ...  \n",
              "1  [2021 , Annual Report, Better, Together, A res...  \n",
              "2  [SUSTAINABILITY REPORT 2020, - 03 -CONTENT IND...  \n",
              "3  [All In: Staying the Course  on Our Commitment...  \n",
              "4  [CORPORATE  SOCIAL , RESPONSIBILITY , ANNUAL R...  "
            ],
            "text/html": [
              "\n",
              "  <div id=\"df-55645e61-9b76-40c4-afa2-594cef9a6752\">\n",
              "    <div class=\"colab-df-container\">\n",
              "      <div>\n",
              "<style scoped>\n",
              "    .dataframe tbody tr th:only-of-type {\n",
              "        vertical-align: middle;\n",
              "    }\n",
              "\n",
              "    .dataframe tbody tr th {\n",
              "        vertical-align: top;\n",
              "    }\n",
              "\n",
              "    .dataframe thead th {\n",
              "        text-align: right;\n",
              "    }\n",
              "</style>\n",
              "<table border=\"1\" class=\"dataframe\">\n",
              "  <thead>\n",
              "    <tr style=\"text-align: right;\">\n",
              "      <th></th>\n",
              "      <th>Company</th>\n",
              "      <th>text</th>\n",
              "      <th>sentences</th>\n",
              "    </tr>\n",
              "  </thead>\n",
              "  <tbody>\n",
              "    <tr>\n",
              "      <th>0</th>\n",
              "      <td>ABNAMRO</td>\n",
              "      <td>ABN AMRO Bank N.V.\\n Integrated  \\nAnnual Repo...</td>\n",
              "      <td>[ABN AMRO Bank N.V. Integrated  Annual Report ...</td>\n",
              "    </tr>\n",
              "    <tr>\n",
              "      <th>1</th>\n",
              "      <td>Agrifirm</td>\n",
              "      <td>2021 Annual Report\\nBetter\\nTogether\\nA respon...</td>\n",
              "      <td>[2021 , Annual Report, Better, Together, A res...</td>\n",
              "    </tr>\n",
              "    <tr>\n",
              "      <th>2</th>\n",
              "      <td>AgroFair</td>\n",
              "      <td>SUSTAINABILITY \\nREPORT 2020\\n- 03 -\\nCONTENT ...</td>\n",
              "      <td>[SUSTAINABILITY REPORT 2020, - 03 -CONTENT IND...</td>\n",
              "    </tr>\n",
              "    <tr>\n",
              "      <th>3</th>\n",
              "      <td>Amazon</td>\n",
              "      <td>All In: Staying the Course  \\non Our Commitmen...</td>\n",
              "      <td>[All In: Staying the Course  on Our Commitment...</td>\n",
              "    </tr>\n",
              "    <tr>\n",
              "      <th>4</th>\n",
              "      <td>Armor</td>\n",
              "      <td>CORPORATE  \\nSOCIAL \\nRESPONSIBILITY \\nANNUAL ...</td>\n",
              "      <td>[CORPORATE  SOCIAL , RESPONSIBILITY , ANNUAL R...</td>\n",
              "    </tr>\n",
              "  </tbody>\n",
              "</table>\n",
              "</div>\n",
              "      <button class=\"colab-df-convert\" onclick=\"convertToInteractive('df-55645e61-9b76-40c4-afa2-594cef9a6752')\"\n",
              "              title=\"Convert this dataframe to an interactive table.\"\n",
              "              style=\"display:none;\">\n",
              "        \n",
              "  <svg xmlns=\"http://www.w3.org/2000/svg\" height=\"24px\"viewBox=\"0 0 24 24\"\n",
              "       width=\"24px\">\n",
              "    <path d=\"M0 0h24v24H0V0z\" fill=\"none\"/>\n",
              "    <path d=\"M18.56 5.44l.94 2.06.94-2.06 2.06-.94-2.06-.94-.94-2.06-.94 2.06-2.06.94zm-11 1L8.5 8.5l.94-2.06 2.06-.94-2.06-.94L8.5 2.5l-.94 2.06-2.06.94zm10 10l.94 2.06.94-2.06 2.06-.94-2.06-.94-.94-2.06-.94 2.06-2.06.94z\"/><path d=\"M17.41 7.96l-1.37-1.37c-.4-.4-.92-.59-1.43-.59-.52 0-1.04.2-1.43.59L10.3 9.45l-7.72 7.72c-.78.78-.78 2.05 0 2.83L4 21.41c.39.39.9.59 1.41.59.51 0 1.02-.2 1.41-.59l7.78-7.78 2.81-2.81c.8-.78.8-2.07 0-2.86zM5.41 20L4 18.59l7.72-7.72 1.47 1.35L5.41 20z\"/>\n",
              "  </svg>\n",
              "      </button>\n",
              "      \n",
              "  <style>\n",
              "    .colab-df-container {\n",
              "      display:flex;\n",
              "      flex-wrap:wrap;\n",
              "      gap: 12px;\n",
              "    }\n",
              "\n",
              "    .colab-df-convert {\n",
              "      background-color: #E8F0FE;\n",
              "      border: none;\n",
              "      border-radius: 50%;\n",
              "      cursor: pointer;\n",
              "      display: none;\n",
              "      fill: #1967D2;\n",
              "      height: 32px;\n",
              "      padding: 0 0 0 0;\n",
              "      width: 32px;\n",
              "    }\n",
              "\n",
              "    .colab-df-convert:hover {\n",
              "      background-color: #E2EBFA;\n",
              "      box-shadow: 0px 1px 2px rgba(60, 64, 67, 0.3), 0px 1px 3px 1px rgba(60, 64, 67, 0.15);\n",
              "      fill: #174EA6;\n",
              "    }\n",
              "\n",
              "    [theme=dark] .colab-df-convert {\n",
              "      background-color: #3B4455;\n",
              "      fill: #D2E3FC;\n",
              "    }\n",
              "\n",
              "    [theme=dark] .colab-df-convert:hover {\n",
              "      background-color: #434B5C;\n",
              "      box-shadow: 0px 1px 3px 1px rgba(0, 0, 0, 0.15);\n",
              "      filter: drop-shadow(0px 1px 2px rgba(0, 0, 0, 0.3));\n",
              "      fill: #FFFFFF;\n",
              "    }\n",
              "  </style>\n",
              "\n",
              "      <script>\n",
              "        const buttonEl =\n",
              "          document.querySelector('#df-55645e61-9b76-40c4-afa2-594cef9a6752 button.colab-df-convert');\n",
              "        buttonEl.style.display =\n",
              "          google.colab.kernel.accessAllowed ? 'block' : 'none';\n",
              "\n",
              "        async function convertToInteractive(key) {\n",
              "          const element = document.querySelector('#df-55645e61-9b76-40c4-afa2-594cef9a6752');\n",
              "          const dataTable =\n",
              "            await google.colab.kernel.invokeFunction('convertToInteractive',\n",
              "                                                     [key], {});\n",
              "          if (!dataTable) return;\n",
              "\n",
              "          const docLinkHtml = 'Like what you see? Visit the ' +\n",
              "            '<a target=\"_blank\" href=https://colab.research.google.com/notebooks/data_table.ipynb>data table notebook</a>'\n",
              "            + ' to learn more about interactive tables.';\n",
              "          element.innerHTML = '';\n",
              "          dataTable['output_type'] = 'display_data';\n",
              "          await google.colab.output.renderOutput(dataTable, element);\n",
              "          const docLink = document.createElement('div');\n",
              "          docLink.innerHTML = docLinkHtml;\n",
              "          element.appendChild(docLink);\n",
              "        }\n",
              "      </script>\n",
              "    </div>\n",
              "  </div>\n",
              "  "
            ]
          },
          "metadata": {},
          "execution_count": 9
        }
      ]
    },
    {
      "cell_type": "code",
      "source": [
        "import numpy as np\n",
        "def chunks(lst, n):\n",
        "    \"\"\"Yield successive n-sized chunks from lst.\"\"\"\n",
        "    for i in range(0, len(lst), n):\n",
        "        yield lst[i:i + n]\n",
        "\n",
        "scores = [] #saving the individual company scores\n",
        "\n",
        "# iterating over every company\n",
        "for element in data['Company'].values:\n",
        "  # extracting all sentences from the report\n",
        "  features = data[data['Company']==element]['sentences'].values[0] \n",
        "  total_sentences = len(features)\n",
        "\n",
        "  # variables for saving positive and negative count of sentences\n",
        "  pos = 0\n",
        "  neg = 0\n",
        "\n",
        "  # hitting the model with sentences in chunks to avoid RAM overload\n",
        "  for chunk in chunks(features, 128):\n",
        "      # calculating softmax for every sentence\n",
        "      results = tf.nn.softmax(reloaded_model(tf.constant(chunk)))\n",
        "      # argmax to extract label\n",
        "      argmax = tf.math.argmax(results, axis = 1).numpy()\n",
        "\n",
        "      #counting pos sentences\n",
        "      pos += np.count_nonzero(argmax==1)\n",
        "  # assigning total scores realtive to number of sentences\n",
        "  score = (pos)/total_sentences\n",
        "  scores.append(score)"
      ],
      "metadata": {
        "id": "OTndwYWdky3v"
      },
      "execution_count": null,
      "outputs": []
    },
    {
      "cell_type": "code",
      "source": [
        "data['scores'] = scores"
      ],
      "metadata": {
        "id": "fCsHZAL6lhcw"
      },
      "execution_count": null,
      "outputs": []
    },
    {
      "cell_type": "code",
      "source": [
        "data[['Company', 'scores']].to_csv('drive/MyDrive/ml/social_scores.csv')"
      ],
      "metadata": {
        "id": "M_XjN8ctplkA"
      },
      "execution_count": null,
      "outputs": []
    },
    {
      "cell_type": "code",
      "source": [
        "for i,element in enumerate(scores):\n",
        "  print(\"%s: %.3f\"%(data['Company'].values[i],element))"
      ],
      "metadata": {
        "colab": {
          "base_uri": "https://localhost:8080/"
        },
        "id": "Sr5dETGNsMj2",
        "outputId": "b277a0c2-e5a7-4dd2-c750-85c23fe9c72b"
      },
      "execution_count": null,
      "outputs": [
        {
          "output_type": "stream",
          "name": "stdout",
          "text": [
            "ABNAMRO: 0.005\n",
            "Agrifirm: 0.037\n",
            "AgroFair: 0.056\n",
            "Amazon: 0.310\n",
            "Armor: 0.052\n",
            "asr: 0.016\n",
            "bam: 0.004\n",
            "Bouwinvest: 0.083\n",
            "Burggroup: 0.186\n",
            "CocaCola: 0.089\n",
            "Dataflex: 0.136\n",
            "DS-Smith: 0.140\n",
            "Essity: -0.011\n",
            "Facebook: 0.203\n",
            "Forbo: 0.154\n",
            "FrieslandCampina: 0.028\n",
            "Google: 0.146\n",
            "GrandVision: 0.060\n",
            "Grolsch: 0.140\n",
            "heineken: 0.078\n",
            "HEMA: 0.156\n",
            "Henke: 0.174\n",
            "HP: 0.127\n",
            "IKEA: 0.178\n",
            "IN: 0.047\n",
            "Intel: 0.200\n",
            "IOC: 0.279\n",
            "KPN: 0.073\n",
            "Microsoft: 0.129\n",
            "NN-Group: 0.070\n",
            "Optigroup: -0.002\n",
            "Otrium: 0.200\n",
            "PepsiCo: 0.204\n",
            "Philips: 0.062\n",
            "ProcterandGamble: 0.258\n",
            "RAI: 0.001\n",
            "Renewi: 0.115\n",
            "Robeco: 0.213\n",
            "Rockwool: 0.033\n",
            "Royal-Avebe: -0.013\n",
            "Shell: 0.099\n",
            "SHVenergy: 0.161\n",
            "TenneT: 0.088\n",
            "Tesla: 0.091\n",
            "Trivium: 0.172\n",
            "Trust: 0.168\n",
            "VanLanschot: -0.017\n",
            "VPCAPITAL: 0.049\n"
          ]
        }
      ]
    },
    {
      "cell_type": "code",
      "source": [
        ""
      ],
      "metadata": {
        "id": "-TAYOtmhtIDg"
      },
      "execution_count": null,
      "outputs": []
    }
  ]
}