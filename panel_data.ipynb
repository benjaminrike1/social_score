{
 "cells": [
  {
   "cell_type": "code",
   "execution_count": 33,
   "metadata": {},
   "outputs": [],
   "source": [
    "import numpy as np\n",
    "import pandas as pd\n",
    "import matplotlib.pyplot as plt\n",
    "import seaborn as sns\n",
    "import scipy.stats as stat"
   ]
  },
  {
   "cell_type": "code",
   "execution_count": 34,
   "metadata": {},
   "outputs": [
    {
     "data": {
      "text/html": [
       "<div>\n",
       "<style scoped>\n",
       "    .dataframe tbody tr th:only-of-type {\n",
       "        vertical-align: middle;\n",
       "    }\n",
       "\n",
       "    .dataframe tbody tr th {\n",
       "        vertical-align: top;\n",
       "    }\n",
       "\n",
       "    .dataframe thead th {\n",
       "        text-align: right;\n",
       "    }\n",
       "</style>\n",
       "<table border=\"1\" class=\"dataframe\">\n",
       "  <thead>\n",
       "    <tr style=\"text-align: right;\">\n",
       "      <th></th>\n",
       "      <th>Company</th>\n",
       "      <th>constant</th>\n",
       "      <th>year</th>\n",
       "      <th>score</th>\n",
       "      <th>total</th>\n",
       "      <th>market_cap</th>\n",
       "      <th>growth</th>\n",
       "      <th>excess_return</th>\n",
       "    </tr>\n",
       "  </thead>\n",
       "  <tbody>\n",
       "    <tr>\n",
       "      <th>0</th>\n",
       "      <td>3M</td>\n",
       "      <td>1</td>\n",
       "      <td>2017</td>\n",
       "      <td>2.719205</td>\n",
       "      <td>7537</td>\n",
       "      <td>123796.0</td>\n",
       "      <td>0.051413</td>\n",
       "      <td>0.174235</td>\n",
       "    </tr>\n",
       "    <tr>\n",
       "      <th>1</th>\n",
       "      <td>3M</td>\n",
       "      <td>1</td>\n",
       "      <td>2018</td>\n",
       "      <td>2.234604</td>\n",
       "      <td>8099</td>\n",
       "      <td>125568.5</td>\n",
       "      <td>0.035000</td>\n",
       "      <td>-0.099849</td>\n",
       "    </tr>\n",
       "    <tr>\n",
       "      <th>2</th>\n",
       "      <td>3M</td>\n",
       "      <td>1</td>\n",
       "      <td>2019</td>\n",
       "      <td>2.859970</td>\n",
       "      <td>8215</td>\n",
       "      <td>106199.5</td>\n",
       "      <td>-0.019197</td>\n",
       "      <td>-0.331689</td>\n",
       "    </tr>\n",
       "    <tr>\n",
       "      <th>3</th>\n",
       "      <td>3M</td>\n",
       "      <td>1</td>\n",
       "      <td>2020</td>\n",
       "      <td>2.866892</td>\n",
       "      <td>7996</td>\n",
       "      <td>101136.5</td>\n",
       "      <td>0.001494</td>\n",
       "      <td>-0.134937</td>\n",
       "    </tr>\n",
       "    <tr>\n",
       "      <th>4</th>\n",
       "      <td>3M</td>\n",
       "      <td>1</td>\n",
       "      <td>2021</td>\n",
       "      <td>3.529180</td>\n",
       "      <td>9147</td>\n",
       "      <td>101591.5</td>\n",
       "      <td>0.098527</td>\n",
       "      <td>-0.220422</td>\n",
       "    </tr>\n",
       "  </tbody>\n",
       "</table>\n",
       "</div>"
      ],
      "text/plain": [
       "  Company  constant  year     score  total  market_cap    growth  \\\n",
       "0      3M         1  2017  2.719205   7537    123796.0  0.051413   \n",
       "1      3M         1  2018  2.234604   8099    125568.5  0.035000   \n",
       "2      3M         1  2019  2.859970   8215    106199.5 -0.019197   \n",
       "3      3M         1  2020  2.866892   7996    101136.5  0.001494   \n",
       "4      3M         1  2021  3.529180   9147    101591.5  0.098527   \n",
       "\n",
       "   excess_return  \n",
       "0       0.174235  \n",
       "1      -0.099849  \n",
       "2      -0.331689  \n",
       "3      -0.134937  \n",
       "4      -0.220422  "
      ]
     },
     "execution_count": 34,
     "metadata": {},
     "output_type": "execute_result"
    }
   ],
   "source": [
    "df_fin = pd.read_csv('df_financial.csv', index_col=0)\n",
    "df_fin.head()"
   ]
  },
  {
   "cell_type": "code",
   "execution_count": 35,
   "metadata": {},
   "outputs": [],
   "source": [
    "# checking if we have any nan values in the dataset\n",
    "df1 = df_fin[df_fin.isna().any(axis=1)]\n",
    "df1.head()\n",
    "\n",
    "# dropping rows with nan values\n",
    "df_fin = df_fin[df_fin.Company!=\"CardinalHealth\"]"
   ]
  },
  {
   "cell_type": "code",
   "execution_count": 36,
   "metadata": {},
   "outputs": [],
   "source": [
    "# dropping companies where we discovered mistakes in preprocessing\n",
    "drop_companies = ['Carnival', 'Aescorporation']\n",
    "df_fin = df_fin[~df_fin.Company.isin(drop_companies)]"
   ]
  },
  {
   "cell_type": "code",
   "execution_count": 37,
   "metadata": {},
   "outputs": [],
   "source": [
    "# dropping wors with total sentences < 200\n",
    "# this is because after inpection this probably is due to \n",
    "# problems in the reading of the report\n",
    "companies = df_fin[df_fin.total<200]['Company'].values\n",
    "df_fin = df_fin[~df_fin.Company.isin(companies)]"
   ]
  },
  {
   "cell_type": "code",
   "execution_count": 38,
   "metadata": {},
   "outputs": [
    {
     "data": {
      "text/html": [
       "<div>\n",
       "<style scoped>\n",
       "    .dataframe tbody tr th:only-of-type {\n",
       "        vertical-align: middle;\n",
       "    }\n",
       "\n",
       "    .dataframe tbody tr th {\n",
       "        vertical-align: top;\n",
       "    }\n",
       "\n",
       "    .dataframe thead th {\n",
       "        text-align: right;\n",
       "    }\n",
       "</style>\n",
       "<table border=\"1\" class=\"dataframe\">\n",
       "  <thead>\n",
       "    <tr style=\"text-align: right;\">\n",
       "      <th></th>\n",
       "      <th>Company</th>\n",
       "      <th>constant</th>\n",
       "      <th>year</th>\n",
       "      <th>score</th>\n",
       "      <th>total</th>\n",
       "      <th>market_cap</th>\n",
       "      <th>growth</th>\n",
       "      <th>excess_return</th>\n",
       "    </tr>\n",
       "  </thead>\n",
       "  <tbody>\n",
       "    <tr>\n",
       "      <th>4</th>\n",
       "      <td>3M</td>\n",
       "      <td>1</td>\n",
       "      <td>2021</td>\n",
       "      <td>3.529180</td>\n",
       "      <td>9147</td>\n",
       "      <td>101591.5</td>\n",
       "      <td>0.098527</td>\n",
       "      <td>-0.220422</td>\n",
       "    </tr>\n",
       "    <tr>\n",
       "      <th>104</th>\n",
       "      <td>Cigna</td>\n",
       "      <td>1</td>\n",
       "      <td>2021</td>\n",
       "      <td>3.443798</td>\n",
       "      <td>5115</td>\n",
       "      <td>75657.5</td>\n",
       "      <td>0.085268</td>\n",
       "      <td>-0.146029</td>\n",
       "    </tr>\n",
       "    <tr>\n",
       "      <th>359</th>\n",
       "      <td>P_G</td>\n",
       "      <td>1</td>\n",
       "      <td>2021</td>\n",
       "      <td>3.323801</td>\n",
       "      <td>8264</td>\n",
       "      <td>370433.5</td>\n",
       "      <td>0.072840</td>\n",
       "      <td>-0.063710</td>\n",
       "    </tr>\n",
       "    <tr>\n",
       "      <th>244</th>\n",
       "      <td>Johnson_Johnson</td>\n",
       "      <td>1</td>\n",
       "      <td>2021</td>\n",
       "      <td>2.936121</td>\n",
       "      <td>5148</td>\n",
       "      <td>432334.0</td>\n",
       "      <td>0.135511</td>\n",
       "      <td>-0.154546</td>\n",
       "    </tr>\n",
       "    <tr>\n",
       "      <th>9</th>\n",
       "      <td>Abbott</td>\n",
       "      <td>1</td>\n",
       "      <td>2021</td>\n",
       "      <td>2.389215</td>\n",
       "      <td>11414</td>\n",
       "      <td>214482.5</td>\n",
       "      <td>0.244654</td>\n",
       "      <td>0.036356</td>\n",
       "    </tr>\n",
       "    <tr>\n",
       "      <th>...</th>\n",
       "      <td>...</td>\n",
       "      <td>...</td>\n",
       "      <td>...</td>\n",
       "      <td>...</td>\n",
       "      <td>...</td>\n",
       "      <td>...</td>\n",
       "      <td>...</td>\n",
       "      <td>...</td>\n",
       "    </tr>\n",
       "    <tr>\n",
       "      <th>14</th>\n",
       "      <td>Accenture</td>\n",
       "      <td>1</td>\n",
       "      <td>2021</td>\n",
       "      <td>-0.822995</td>\n",
       "      <td>435</td>\n",
       "      <td>191781.5</td>\n",
       "      <td>0.140005</td>\n",
       "      <td>0.337726</td>\n",
       "    </tr>\n",
       "    <tr>\n",
       "      <th>414</th>\n",
       "      <td>Starbucks</td>\n",
       "      <td>1</td>\n",
       "      <td>2021</td>\n",
       "      <td>-0.836841</td>\n",
       "      <td>873</td>\n",
       "      <td>128479.0</td>\n",
       "      <td>0.235649</td>\n",
       "      <td>-0.166522</td>\n",
       "    </tr>\n",
       "    <tr>\n",
       "      <th>239</th>\n",
       "      <td>J.M.Smucker</td>\n",
       "      <td>1</td>\n",
       "      <td>2021</td>\n",
       "      <td>-0.873763</td>\n",
       "      <td>706</td>\n",
       "      <td>14112.5</td>\n",
       "      <td>0.025766</td>\n",
       "      <td>-0.058475</td>\n",
       "    </tr>\n",
       "    <tr>\n",
       "      <th>409</th>\n",
       "      <td>Stanley</td>\n",
       "      <td>1</td>\n",
       "      <td>2021</td>\n",
       "      <td>-1.097602</td>\n",
       "      <td>430</td>\n",
       "      <td>29680.0</td>\n",
       "      <td>0.196063</td>\n",
       "      <td>-0.196111</td>\n",
       "    </tr>\n",
       "    <tr>\n",
       "      <th>69</th>\n",
       "      <td>Boeing</td>\n",
       "      <td>1</td>\n",
       "      <td>2021</td>\n",
       "      <td>-1.143754</td>\n",
       "      <td>1222</td>\n",
       "      <td>119579.5</td>\n",
       "      <td>0.070979</td>\n",
       "      <td>-0.328443</td>\n",
       "    </tr>\n",
       "  </tbody>\n",
       "</table>\n",
       "<p>89 rows × 8 columns</p>\n",
       "</div>"
      ],
      "text/plain": [
       "             Company  constant  year     score  total  market_cap    growth  \\\n",
       "4                 3M         1  2021  3.529180   9147    101591.5  0.098527   \n",
       "104            Cigna         1  2021  3.443798   5115     75657.5  0.085268   \n",
       "359              P_G         1  2021  3.323801   8264    370433.5  0.072840   \n",
       "244  Johnson_Johnson         1  2021  2.936121   5148    432334.0  0.135511   \n",
       "9             Abbott         1  2021  2.389215  11414    214482.5  0.244654   \n",
       "..               ...       ...   ...       ...    ...         ...       ...   \n",
       "14         Accenture         1  2021 -0.822995    435    191781.5  0.140005   \n",
       "414        Starbucks         1  2021 -0.836841    873    128479.0  0.235649   \n",
       "239      J.M.Smucker         1  2021 -0.873763    706     14112.5  0.025766   \n",
       "409          Stanley         1  2021 -1.097602    430     29680.0  0.196063   \n",
       "69            Boeing         1  2021 -1.143754   1222    119579.5  0.070979   \n",
       "\n",
       "     excess_return  \n",
       "4        -0.220422  \n",
       "104      -0.146029  \n",
       "359      -0.063710  \n",
       "244      -0.154546  \n",
       "9         0.036356  \n",
       "..             ...  \n",
       "14        0.337726  \n",
       "414      -0.166522  \n",
       "239      -0.058475  \n",
       "409      -0.196111  \n",
       "69       -0.328443  \n",
       "\n",
       "[89 rows x 8 columns]"
      ]
     },
     "execution_count": 38,
     "metadata": {},
     "output_type": "execute_result"
    }
   ],
   "source": [
    "df_fin[df_fin.year == 2021].sort_values(by='score', ascending=False, na_position='first')"
   ]
  },
  {
   "cell_type": "code",
   "execution_count": 13,
   "metadata": {},
   "outputs": [
    {
     "name": "stdout",
     "output_type": "stream",
     "text": [
      "R-squared: 0.761029\n"
     ]
    },
    {
     "data": {
      "image/png": "[encoded data removed]",
      "text/plain": [
       "<Figure size 432x288 with 1 Axes>"
      ]
     },
     "metadata": {
      "needs_background": "light"
     },
     "output_type": "display_data"
    }
   ],
   "source": [
    "# making scatterplot of social score and total number of sentences\n",
    "# regressing a fitted line\n",
    "\n",
    "x=df_fin['total']\n",
    "y=df_fin['score']\n",
    "\n",
    "slope, intercept, r, p, se = stat.linregress(x, y)\n",
    "\n",
    "print(f\"R-squared: {r**2:.6f}\")\n",
    "\n",
    "plt.plot(x, y, 'o', label='original data')\n",
    "plt.xlabel('Total sentences')\n",
    "plt.ylabel('Social score')\n",
    "plt.plot(x, intercept + slope*x, 'r', label='fitted line')\n",
    "plt.legend()\n",
    "plt.show()"
   ]
  },
  {
   "cell_type": "code",
   "execution_count": 64,
   "metadata": {},
   "outputs": [
    {
     "data": {
      "text/plain": [
       "<AxesSubplot:>"
      ]
     },
     "execution_count": 64,
     "metadata": {},
     "output_type": "execute_result"
    },
    {
     "data": {
      "image/png": "[encoded data removed]",
      "text/plain": [
       "<Figure size 1008x576 with 2 Axes>"
      ]
     },
     "metadata": {
      "needs_background": "light"
     },
     "output_type": "display_data"
    }
   ],
   "source": [
    "# creating a heat map to check correlation\n",
    "\n",
    "corr_features = ['score', 'total', 'market_cap',\n",
    "                 'growth', 'excess_return'\n",
    "                 ]\n",
    "df_corr = df_fin[corr_features]\n",
    "corr = df_corr.corr()\n",
    "corr['score']\n",
    "f, ax = plt.subplots(figsize=(14,8))\n",
    "labels = ['Social Score', '# sentences in report', 'Market cap', 'Revenue Growth', 'Excess return']\n",
    "sns.heatmap(corr, ax=ax, xticklabels= labels, yticklabels = labels)"
   ]
  },
  {
   "cell_type": "code",
   "execution_count": 49,
   "metadata": {},
   "outputs": [
    {
     "data": {
      "text/plain": [
       "score            1.000000\n",
       "total            0.872370\n",
       "market_cap       0.046908\n",
       "growth           0.065793\n",
       "excess_return   -0.032936\n",
       "Name: score, dtype: float64"
      ]
     },
     "execution_count": 49,
     "metadata": {},
     "output_type": "execute_result"
    }
   ],
   "source": [
    "corr['score']"
   ]
  },
  {
   "cell_type": "code",
   "execution_count": 50,
   "metadata": {},
   "outputs": [
    {
     "data": {
      "image/png": "[encoded data removed]",
      "text/plain": [
       "<Figure size 1008x720 with 6 Axes>"
      ]
     },
     "metadata": {
      "needs_background": "light"
     },
     "output_type": "display_data"
    }
   ],
   "source": [
    "fix, ax = plt.subplots(3,2, figsize=(14,10))\n",
    "\n",
    "for i, element in enumerate(corr_features):\n",
    "    sns.histplot(df_fin[element].values, ax = ax[i//2, i%2])\n",
    "    ax[i//2, i%2].set_title(f\"Histogram for {element}\")\n",
    "    "
   ]
  },
  {
   "cell_type": "markdown",
   "metadata": {},
   "source": [
    "First, we try performing pooled OLS"
   ]
  },
  {
   "cell_type": "code",
   "execution_count": 51,
   "metadata": {},
   "outputs": [
    {
     "data": {
      "text/plain": [
       "(445, 8)"
      ]
     },
     "execution_count": 51,
     "metadata": {},
     "output_type": "execute_result"
    }
   ],
   "source": [
    "df_fin.shape"
   ]
  },
  {
   "cell_type": "code",
   "execution_count": 55,
   "metadata": {},
   "outputs": [],
   "source": [
    "df_fin['market_cap'] = (df_fin['market_cap']-df_fin['market_cap'].mean())/df_fin['market_cap'].std()"
   ]
  },
  {
   "cell_type": "code",
   "execution_count": 56,
   "metadata": {},
   "outputs": [],
   "source": [
    "from linearmodels import PooledOLS\n",
    "from datetime import datetime\n",
    "\n",
    "import statsmodels.api as sm\n",
    "\n",
    "features = ['constant', 'score', 'market_cap', 'growth']\n",
    "\n",
    "df_fin['year'] = pd.to_datetime(df_fin['year'], format='%Y')\n",
    "df_fin2 = df_fin.set_index(['Company', 'year'], append=False)\n",
    "\n",
    "exog = df_fin2[features]\n",
    "\n",
    "endog = df_fin2['excess_return']\n",
    "mod = PooledOLS(endog, exog)\n",
    "pooledOLS_res = mod.fit(cov_type='clustered', cluster_entity=True)\n",
    "# Store values for checking homoskedasticity graphically\n",
    "fittedvals_pooled_OLS = pooledOLS_res.predict().fitted_values\n",
    "residuals_pooled_OLS = pooledOLS_res.resids"
   ]
  },
  {
   "cell_type": "code",
   "execution_count": 57,
   "metadata": {},
   "outputs": [
    {
     "name": "stdout",
     "output_type": "stream",
     "text": [
      "                          PooledOLS Estimation Summary                          \n",
      "================================================================================\n",
      "Dep. Variable:          excess_return   R-squared:                        0.0405\n",
      "Estimator:                  PooledOLS   R-squared (Between):              0.1736\n",
      "No. Observations:                 445   R-squared (Within):              -0.0154\n",
      "Date:                Wed, Jun 08 2022   R-squared (Overall):              0.0405\n",
      "Time:                        08:40:00   Log-likelihood                   -28.899\n",
      "Cov. Estimator:             Clustered                                           \n",
      "                                        F-statistic:                      6.1970\n",
      "Entities:                          89   P-value                           0.0004\n",
      "Avg Obs:                       5.0000   Distribution:                   F(3,441)\n",
      "Min Obs:                       5.0000                                           \n",
      "Max Obs:                       5.0000   F-statistic (robust):             14.590\n",
      "                                        P-value                           0.0000\n",
      "Time periods:                       5   Distribution:                   F(3,441)\n",
      "Avg Obs:                       89.000                                           \n",
      "Min Obs:                       89.000                                           \n",
      "Max Obs:                       89.000                                           \n",
      "                                                                                \n",
      "                             Parameter Estimates                              \n",
      "==============================================================================\n",
      "            Parameter  Std. Err.     T-stat    P-value    Lower CI    Upper CI\n",
      "------------------------------------------------------------------------------\n",
      "constant       0.0091     0.0148     0.6160     0.5382     -0.0199      0.0381\n",
      "score         -0.0128     0.0101    -1.2685     0.2053     -0.0326      0.0070\n",
      "market_cap     0.0395     0.0063     6.2253     0.0000      0.0270      0.0520\n",
      "growth         0.0620     0.0430     1.4409     0.1503     -0.0226      0.1466\n",
      "==============================================================================\n"
     ]
    }
   ],
   "source": [
    "print(pooledOLS_res)"
   ]
  },
  {
   "cell_type": "markdown",
   "metadata": {},
   "source": [
    "(thanks to: https://towardsdatascience.com/a-guide-to-panel-data-regression-theoretics-and-implementation-with-python-4c84c5055cf8)"
   ]
  },
  {
   "cell_type": "code",
   "execution_count": 58,
   "metadata": {},
   "outputs": [
    {
     "data": {
      "image/png": "[encoded data removed]",
      "text/plain": [
       "<Figure size 576x432 with 1 Axes>"
      ]
     },
     "metadata": {
      "needs_background": "light"
     },
     "output_type": "display_data"
    }
   ],
   "source": [
    "# 3A. Homoskedasticity\n",
    "import matplotlib.pyplot as plt\n",
    " # 3A.1 Residuals-Plot for growing Variance Detection\n",
    "fig, ax = plt.subplots(figsize = (8,6))\n",
    "ax.scatter(fittedvals_pooled_OLS, residuals_pooled_OLS, color = 'blue')\n",
    "ax.axhline(0, color = 'r', ls = '--')\n",
    "ax.set_xlabel('Predicted Values', fontsize = 15)\n",
    "ax.set_ylabel('Residuals', fontsize = 15)\n",
    "ax.set_title('Homoskedasticity Test', fontsize = 30)\n",
    "plt.show()"
   ]
  },
  {
   "cell_type": "code",
   "execution_count": 59,
   "metadata": {},
   "outputs": [
    {
     "name": "stdout",
     "output_type": "stream",
     "text": [
      "                        RandomEffects Estimation Summary                        \n",
      "================================================================================\n",
      "Dep. Variable:          excess_return   R-squared:                        0.0318\n",
      "Estimator:              RandomEffects   R-squared (Between):              0.1617\n",
      "No. Observations:                 445   R-squared (Within):              -0.0110\n",
      "Date:                Wed, Jun 08 2022   R-squared (Overall):              0.0401\n",
      "Time:                        08:40:50   Log-likelihood                   -16.235\n",
      "Cov. Estimator:            Unadjusted                                           \n",
      "                                        F-statistic:                      4.8228\n",
      "Entities:                          89   P-value                           0.0026\n",
      "Avg Obs:                       5.0000   Distribution:                   F(3,441)\n",
      "Min Obs:                       5.0000                                           \n",
      "Max Obs:                       5.0000   F-statistic (robust):             4.8228\n",
      "                                        P-value                           0.0026\n",
      "Time periods:                       5   Distribution:                   F(3,441)\n",
      "Avg Obs:                       89.000                                           \n",
      "Min Obs:                       89.000                                           \n",
      "Max Obs:                       89.000                                           \n",
      "                                                                                \n",
      "                             Parameter Estimates                              \n",
      "==============================================================================\n",
      "            Parameter  Std. Err.     T-stat    P-value    Lower CI    Upper CI\n",
      "------------------------------------------------------------------------------\n",
      "constant       0.0100     0.0137     0.7264     0.4680     -0.0170      0.0369\n",
      "score         -0.0137     0.0130    -1.0603     0.2896     -0.0392      0.0117\n",
      "market_cap     0.0369     0.0132     2.7982     0.0054      0.0110      0.0628\n",
      "growth         0.0542     0.0225     2.4046     0.0166      0.0099      0.0984\n",
      "==============================================================================\n"
     ]
    }
   ],
   "source": [
    "# FE und RE model\n",
    "from linearmodels import PanelOLS\n",
    "from linearmodels import RandomEffects\n",
    "\n",
    "exog = df_fin2[['constant', 'score', 'market_cap', 'growth']]\n",
    "\n",
    "# random effects model\n",
    "model_re = RandomEffects(endog, exog) \n",
    "re_res = model_re.fit() \n",
    "# fixed effects model\n",
    "model_fe = PanelOLS(endog, exog, entity_effects = True, drop_absorbed=True) \n",
    "fe_res = model_fe.fit() \n",
    "#print results\n",
    "print(re_res)"
   ]
  },
  {
   "cell_type": "code",
   "execution_count": 61,
   "metadata": {},
   "outputs": [
    {
     "name": "stdout",
     "output_type": "stream",
     "text": [
      "                          PanelOLS Estimation Summary                           \n",
      "================================================================================\n",
      "Dep. Variable:          excess_return   R-squared:                        0.0061\n",
      "Estimator:                   PanelOLS   R-squared (Between):             -0.0461\n",
      "No. Observations:                 445   R-squared (Within):               0.0061\n",
      "Date:                Wed, Jun 08 2022   R-squared (Overall):             -0.0093\n",
      "Time:                        08:40:50   Log-likelihood                    41.211\n",
      "Cov. Estimator:            Unadjusted                                           \n",
      "                                        F-statistic:                      0.7239\n",
      "Entities:                          89   P-value                           0.5383\n",
      "Avg Obs:                       5.0000   Distribution:                   F(3,353)\n",
      "Min Obs:                       5.0000                                           \n",
      "Max Obs:                       5.0000   F-statistic (robust):             0.7239\n",
      "                                        P-value                           0.5383\n",
      "Time periods:                       5   Distribution:                   F(3,353)\n",
      "Avg Obs:                       89.000                                           \n",
      "Min Obs:                       89.000                                           \n",
      "Max Obs:                       89.000                                           \n",
      "                                                                                \n",
      "                             Parameter Estimates                              \n",
      "==============================================================================\n",
      "            Parameter  Std. Err.     T-stat    P-value    Lower CI    Upper CI\n",
      "------------------------------------------------------------------------------\n",
      "constant       0.0139     0.0120     1.1557     0.2486     -0.0098      0.0375\n",
      "score         -0.0238     0.0200    -1.1905     0.2347     -0.0632      0.0155\n",
      "market_cap    -0.0125     0.0266    -0.4683     0.6399     -0.0649      0.0399\n",
      "growth         0.0207     0.0243     0.8513     0.3952     -0.0271      0.0686\n",
      "==============================================================================\n",
      "\n",
      "F-test for Poolability: 1.4858\n",
      "P-value: 0.0067\n",
      "Distribution: F(88,353)\n",
      "\n",
      "Included effects: Entity\n"
     ]
    }
   ],
   "source": [
    "print(fe_res)"
   ]
  },
  {
   "cell_type": "code",
   "execution_count": 62,
   "metadata": {},
   "outputs": [
    {
     "name": "stdout",
     "output_type": "stream",
     "text": [
      "Chi-Squared: 22.144607186086233\n",
      "degrees of freedom: 4\n",
      "p-Value: 0.00018756413393888912\n"
     ]
    }
   ],
   "source": [
    "import numpy.linalg as la\n",
    "from scipy import stats\n",
    "import numpy as np\n",
    "def hausman(fe, re):\n",
    " b = fe.params\n",
    " B = re.params\n",
    " v_b = fe.cov\n",
    " v_B = re.cov\n",
    " df = b[np.abs(b) < 1e8].size\n",
    " chi2 = np.dot((b - B).T, la.inv(v_b - v_B).dot(b - B)) \n",
    " \n",
    " pval = stats.chi2.sf(chi2, df)\n",
    " return chi2, df, pval\n",
    "\n",
    "hausman_results = hausman(fe_res, re_res) \n",
    "print('Chi-Squared: ' + str(hausman_results[0]))\n",
    "print('degrees of freedom: ' + str(hausman_results[1]))\n",
    "print('p-Value: ' + str(hausman_results[2]))"
   ]
  }
 ],
 "metadata": {
  "interpreter": {
   "hash": "5c42c202f02bd88f630c08504a2a70f76c65184e2d4d0e2e5410e2500b78b318"
  },
  "kernelspec": {
   "display_name": "Python 3.8.11 ('ADA')",
   "language": "python",
   "name": "python3"
  },
  "language_info": {
   "codemirror_mode": {
    "name": "ipython",
    "version": 3
   },
   "file_extension": ".py",
   "mimetype": "text/x-python",
   "name": "python",
   "nbconvert_exporter": "python",
   "pygments_lexer": "ipython3",
   "version": "3.8.11"
  },
  "orig_nbformat": 4
 },
 "nbformat": 4,
 "nbformat_minor": 2
}
