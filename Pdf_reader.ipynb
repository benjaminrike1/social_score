{
 "cells": [
  {
   "cell_type": "code",
   "execution_count": 136,
   "metadata": {},
   "outputs": [],
   "source": [
    "import pandas as pd\n",
    "import fitz\n",
    "import os"
   ]
  },
  {
   "cell_type": "code",
   "execution_count": 137,
   "metadata": {},
   "outputs": [],
   "source": [
    "df = pd.DataFrame(columns = ['Company', 'text'])"
   ]
  },
  {
   "cell_type": "code",
   "execution_count": 138,
   "metadata": {},
   "outputs": [
    {
     "name": "stderr",
     "output_type": "stream",
     "text": [
      "Deprecation: 'getText' removed from class 'Page' after v1.19 - use 'get_text'.\n"
     ]
    },
    {
     "name": "stdout",
     "output_type": "stream",
     "text": [
      "reports\\ABNAMRO_2021.pdf\n",
      "reports\\Agrifirm_2021.pdf\n",
      "reports\\AgroFair_2020.pdf\n",
      "reports\\Amazon_2020.pdf\n",
      "reports\\Armor_2019.pdf\n",
      "reports\\asr_2021.pdf\n",
      "reports\\bam_2020.pdf\n",
      "reports\\Bouwinvest_2019.pdf\n",
      "reports\\Burggroup_2021.pdf\n",
      "reports\\CocaCola_2020.pdf\n",
      "reports\\Dataflex_2020.pdf\n",
      "reports\\DS-Smith_2021.pdf\n",
      "reports\\Essity_2021.pdf\n",
      "reports\\Facebook_2020.pdf\n",
      "reports\\Forbo_2020.pdf\n",
      "reports\\FrieslandCampina_2021.pdf\n",
      "reports\\Google_2020.pdf\n",
      "reports\\GrandVision_2020.pdf\n",
      "reports\\Grolsch_2020.pdf\n",
      "reports\\heineken_2021.pdf\n",
      "reports\\HEMA_2020.pdf\n",
      "reports\\Henkel2021.pdf\n",
      "reports\\HP_2020.pdf\n",
      "reports\\IKEA_2021.pdf\n",
      "reports\\ING2021.pdf\n",
      "reports\\Intel_2020.pdf\n",
      "reports\\IOC_2021.pdf\n",
      "reports\\KPN_2021.pdf\n",
      "reports\\Microsoft_2021.pdf\n",
      "reports\\NN-Group_2021.pdf\n",
      "reports\\Optigroup_2020.pdf\n",
      "reports\\Otrium_2021.pdf\n",
      "reports\\PepsiCo_2020.pdf\n",
      "reports\\Philips_2021.pdf\n",
      "reports\\ProcterandGamble_2021.pdf\n",
      "reports\\RAI_2018.pdf\n",
      "reports\\Renewi_2019.pdf\n",
      "reports\\Robeco_2019.pdf\n",
      "reports\\Rockwool_2021.pdf\n",
      "reports\\Royal-Avebe_2020.pdf\n",
      "reports\\Shell_2020.pdf\n",
      "reports\\SHVenergy_2021.pdf\n",
      "reports\\TenneT_2021.pdf\n",
      "reports\\Tesla_2020.pdf\n",
      "reports\\Trivium_2020.pdf\n",
      "reports\\Trust_2021.pdf\n",
      "reports\\VanLanschot_2021.pdf\n",
      "reports\\VPCAPITAL_2021.pdf\n"
     ]
    }
   ],
   "source": [
    "directory = 'reports'\n",
    "\n",
    "# Reading in pdf-files using PyMuPDF\n",
    "# Adding the text to a dataframe\n",
    "\n",
    "for filename in os.listdir(directory):\n",
    "    f = os.path.join(directory, filename)\n",
    "    # checking if it is a file\n",
    "    if os.path.isfile(f):\n",
    "        pdf = fitz.open(f)\n",
    "        text = ''\n",
    "        for page in pdf:\n",
    "            text += page.getText('text')\n",
    "        print(f)\n",
    "        df = df.append(pd.DataFrame([[f,text]], columns=df.columns))"
   ]
  },
  {
   "cell_type": "code",
   "execution_count": 139,
   "metadata": {},
   "outputs": [
    {
     "data": {
      "text/html": [
       "<div>\n",
       "<style scoped>\n",
       "    .dataframe tbody tr th:only-of-type {\n",
       "        vertical-align: middle;\n",
       "    }\n",
       "\n",
       "    .dataframe tbody tr th {\n",
       "        vertical-align: top;\n",
       "    }\n",
       "\n",
       "    .dataframe thead th {\n",
       "        text-align: right;\n",
       "    }\n",
       "</style>\n",
       "<table border=\"1\" class=\"dataframe\">\n",
       "  <thead>\n",
       "    <tr style=\"text-align: right;\">\n",
       "      <th></th>\n",
       "      <th>Company</th>\n",
       "      <th>text</th>\n",
       "    </tr>\n",
       "  </thead>\n",
       "  <tbody>\n",
       "    <tr>\n",
       "      <th>0</th>\n",
       "      <td>ABNAMRO</td>\n",
       "      <td>ABN AMRO Bank N.V.\\n Integrated  \\nAnnual Repo...</td>\n",
       "    </tr>\n",
       "    <tr>\n",
       "      <th>1</th>\n",
       "      <td>Agrifirm</td>\n",
       "      <td>2021 Annual Report\\nBetter\\nTogether\\nA respon...</td>\n",
       "    </tr>\n",
       "    <tr>\n",
       "      <th>2</th>\n",
       "      <td>AgroFair</td>\n",
       "      <td>SUSTAINABILITY \\nREPORT 2020\\n- 03 -\\nCONTENT ...</td>\n",
       "    </tr>\n",
       "    <tr>\n",
       "      <th>3</th>\n",
       "      <td>Amazon</td>\n",
       "      <td>All In: Staying the Course  \\non Our Commitmen...</td>\n",
       "    </tr>\n",
       "    <tr>\n",
       "      <th>4</th>\n",
       "      <td>Armor</td>\n",
       "      <td>CORPORATE  \\nSOCIAL \\nRESPONSIBILITY \\nANNUAL ...</td>\n",
       "    </tr>\n",
       "  </tbody>\n",
       "</table>\n",
       "</div>"
      ],
      "text/plain": [
       "    Company                                               text\n",
       "0   ABNAMRO  ABN AMRO Bank N.V.\\n Integrated  \\nAnnual Repo...\n",
       "1  Agrifirm  2021 Annual Report\\nBetter\\nTogether\\nA respon...\n",
       "2  AgroFair  SUSTAINABILITY \\nREPORT 2020\\n- 03 -\\nCONTENT ...\n",
       "3    Amazon  All In: Staying the Course  \\non Our Commitmen...\n",
       "4     Armor  CORPORATE  \\nSOCIAL \\nRESPONSIBILITY \\nANNUAL ..."
      ]
     },
     "execution_count": 139,
     "metadata": {},
     "output_type": "execute_result"
    }
   ],
   "source": [
    "df['Company'] = df['Company'].apply(lambda x: x[8:-9])\n",
    "df = df.reset_index(drop=True)\n",
    "df.head()"
   ]
  },
  {
   "cell_type": "code",
   "execution_count": 140,
   "metadata": {},
   "outputs": [],
   "source": [
    "import spacy\n",
    "nlp = spacy.load('en_core_web_sm')\n",
    "\n",
    "#Increasing max length (Check if this not cause problems)\n",
    "nlp.max_length = 2000000"
   ]
  },
  {
   "cell_type": "code",
   "execution_count": 141,
   "metadata": {},
   "outputs": [],
   "source": [
    "def get_list(text):\n",
    "    doc = nlp(text)\n",
    "    sentences = [sent.string.strip() for sent in doc.sents]\n",
    "    return sentences"
   ]
  },
  {
   "cell_type": "code",
   "execution_count": 142,
   "metadata": {},
   "outputs": [
    {
     "data": {
      "text/html": [
       "<div>\n",
       "<style scoped>\n",
       "    .dataframe tbody tr th:only-of-type {\n",
       "        vertical-align: middle;\n",
       "    }\n",
       "\n",
       "    .dataframe tbody tr th {\n",
       "        vertical-align: top;\n",
       "    }\n",
       "\n",
       "    .dataframe thead th {\n",
       "        text-align: right;\n",
       "    }\n",
       "</style>\n",
       "<table border=\"1\" class=\"dataframe\">\n",
       "  <thead>\n",
       "    <tr style=\"text-align: right;\">\n",
       "      <th></th>\n",
       "      <th>Company</th>\n",
       "      <th>text</th>\n",
       "      <th>sentences</th>\n",
       "    </tr>\n",
       "  </thead>\n",
       "  <tbody>\n",
       "    <tr>\n",
       "      <th>0</th>\n",
       "      <td>ABNAMRO</td>\n",
       "      <td>ABN AMRO Bank N.V.\\n Integrated  \\nAnnual Repo...</td>\n",
       "      <td>[ABN AMRO Bank N.V.\\n Integrated  \\nAnnual Rep...</td>\n",
       "    </tr>\n",
       "    <tr>\n",
       "      <th>1</th>\n",
       "      <td>Agrifirm</td>\n",
       "      <td>2021 Annual Report\\nBetter\\nTogether\\nA respon...</td>\n",
       "      <td>[2021, Annual Report, Better, Together, A resp...</td>\n",
       "    </tr>\n",
       "    <tr>\n",
       "      <th>2</th>\n",
       "      <td>AgroFair</td>\n",
       "      <td>SUSTAINABILITY \\nREPORT 2020\\n- 03 -\\nCONTENT ...</td>\n",
       "      <td>[SUSTAINABILITY \\nREPORT 2020, - 03 -\\nCONTENT...</td>\n",
       "    </tr>\n",
       "    <tr>\n",
       "      <th>3</th>\n",
       "      <td>Amazon</td>\n",
       "      <td>All In: Staying the Course  \\non Our Commitmen...</td>\n",
       "      <td>[All In: Staying the Course  \\non Our Commitme...</td>\n",
       "    </tr>\n",
       "    <tr>\n",
       "      <th>4</th>\n",
       "      <td>Armor</td>\n",
       "      <td>CORPORATE  \\nSOCIAL \\nRESPONSIBILITY \\nANNUAL ...</td>\n",
       "      <td>[CORPORATE  \\nSOCIAL, RESPONSIBILITY, ANNUAL R...</td>\n",
       "    </tr>\n",
       "  </tbody>\n",
       "</table>\n",
       "</div>"
      ],
      "text/plain": [
       "    Company                                               text  \\\n",
       "0   ABNAMRO  ABN AMRO Bank N.V.\\n Integrated  \\nAnnual Repo...   \n",
       "1  Agrifirm  2021 Annual Report\\nBetter\\nTogether\\nA respon...   \n",
       "2  AgroFair  SUSTAINABILITY \\nREPORT 2020\\n- 03 -\\nCONTENT ...   \n",
       "3    Amazon  All In: Staying the Course  \\non Our Commitmen...   \n",
       "4     Armor  CORPORATE  \\nSOCIAL \\nRESPONSIBILITY \\nANNUAL ...   \n",
       "\n",
       "                                           sentences  \n",
       "0  [ABN AMRO Bank N.V.\\n Integrated  \\nAnnual Rep...  \n",
       "1  [2021, Annual Report, Better, Together, A resp...  \n",
       "2  [SUSTAINABILITY \\nREPORT 2020, - 03 -\\nCONTENT...  \n",
       "3  [All In: Staying the Course  \\non Our Commitme...  \n",
       "4  [CORPORATE  \\nSOCIAL, RESPONSIBILITY, ANNUAL R...  "
      ]
     },
     "execution_count": 142,
     "metadata": {},
     "output_type": "execute_result"
    }
   ],
   "source": [
    "df['sentences'] = df['text'].apply(lambda x: get_list(x))\n",
    "df.head()"
   ]
  },
  {
   "cell_type": "code",
   "execution_count": 153,
   "metadata": {},
   "outputs": [],
   "source": [
    "df.to_pickle('reports_df.pickle')"
   ]
  },
  {
   "cell_type": "code",
   "execution_count": 154,
   "metadata": {},
   "outputs": [],
   "source": [
    "df_read = pd.read_pickle('reports_df.pickle')"
   ]
  },
  {
   "cell_type": "code",
   "execution_count": 155,
   "metadata": {},
   "outputs": [
    {
     "data": {
      "text/html": [
       "<div>\n",
       "<style scoped>\n",
       "    .dataframe tbody tr th:only-of-type {\n",
       "        vertical-align: middle;\n",
       "    }\n",
       "\n",
       "    .dataframe tbody tr th {\n",
       "        vertical-align: top;\n",
       "    }\n",
       "\n",
       "    .dataframe thead th {\n",
       "        text-align: right;\n",
       "    }\n",
       "</style>\n",
       "<table border=\"1\" class=\"dataframe\">\n",
       "  <thead>\n",
       "    <tr style=\"text-align: right;\">\n",
       "      <th></th>\n",
       "      <th>Company</th>\n",
       "      <th>text</th>\n",
       "      <th>sentences</th>\n",
       "    </tr>\n",
       "  </thead>\n",
       "  <tbody>\n",
       "    <tr>\n",
       "      <th>0</th>\n",
       "      <td>ABNAMRO</td>\n",
       "      <td>ABN AMRO Bank N.V.\\n Integrated  \\nAnnual Repo...</td>\n",
       "      <td>[ABN AMRO Bank N.V.\\n Integrated  \\nAnnual Rep...</td>\n",
       "    </tr>\n",
       "    <tr>\n",
       "      <th>1</th>\n",
       "      <td>Agrifirm</td>\n",
       "      <td>2021 Annual Report\\nBetter\\nTogether\\nA respon...</td>\n",
       "      <td>[2021, Annual Report, Better, Together, A resp...</td>\n",
       "    </tr>\n",
       "    <tr>\n",
       "      <th>2</th>\n",
       "      <td>AgroFair</td>\n",
       "      <td>SUSTAINABILITY \\nREPORT 2020\\n- 03 -\\nCONTENT ...</td>\n",
       "      <td>[SUSTAINABILITY \\nREPORT 2020, - 03 -\\nCONTENT...</td>\n",
       "    </tr>\n",
       "    <tr>\n",
       "      <th>3</th>\n",
       "      <td>Amazon</td>\n",
       "      <td>All In: Staying the Course  \\non Our Commitmen...</td>\n",
       "      <td>[All In: Staying the Course  \\non Our Commitme...</td>\n",
       "    </tr>\n",
       "    <tr>\n",
       "      <th>4</th>\n",
       "      <td>Armor</td>\n",
       "      <td>CORPORATE  \\nSOCIAL \\nRESPONSIBILITY \\nANNUAL ...</td>\n",
       "      <td>[CORPORATE  \\nSOCIAL, RESPONSIBILITY, ANNUAL R...</td>\n",
       "    </tr>\n",
       "  </tbody>\n",
       "</table>\n",
       "</div>"
      ],
      "text/plain": [
       "    Company                                               text  \\\n",
       "0   ABNAMRO  ABN AMRO Bank N.V.\\n Integrated  \\nAnnual Repo...   \n",
       "1  Agrifirm  2021 Annual Report\\nBetter\\nTogether\\nA respon...   \n",
       "2  AgroFair  SUSTAINABILITY \\nREPORT 2020\\n- 03 -\\nCONTENT ...   \n",
       "3    Amazon  All In: Staying the Course  \\non Our Commitmen...   \n",
       "4     Armor  CORPORATE  \\nSOCIAL \\nRESPONSIBILITY \\nANNUAL ...   \n",
       "\n",
       "                                           sentences  \n",
       "0  [ABN AMRO Bank N.V.\\n Integrated  \\nAnnual Rep...  \n",
       "1  [2021, Annual Report, Better, Together, A resp...  \n",
       "2  [SUSTAINABILITY \\nREPORT 2020, - 03 -\\nCONTENT...  \n",
       "3  [All In: Staying the Course  \\non Our Commitme...  \n",
       "4  [CORPORATE  \\nSOCIAL, RESPONSIBILITY, ANNUAL R...  "
      ]
     },
     "execution_count": 155,
     "metadata": {},
     "output_type": "execute_result"
    }
   ],
   "source": [
    "df_read.head()"
   ]
  },
  {
   "cell_type": "code",
   "execution_count": 156,
   "metadata": {},
   "outputs": [
    {
     "name": "stdout",
     "output_type": "stream",
     "text": [
      "Our thoughts are with their families, friends and direct colleagues.\n",
      "\n",
      "\n",
      "Outlook for 2022\n",
      "\n",
      "\n",
      "We expect that the challenges we faced in 2021 will continue to play an important \n",
      "role in 2022.\n",
      "\n",
      "\n",
      "Animal diseases, raw material shortages, high feed prices, and societal \n",
      "and political pressure are issues that we will also have to deal with in the coming \n",
      "year.\n",
      "\n",
      "\n",
      "We will face these challenges with confidence and, with our dedicated \n",
      "employees, we will do our utmost to provide our customers with the right knowledge \n",
      "and solutions.\n",
      "\n",
      "\n",
      "We are always looking to combine innovations \n",
      "in logistics and sustainable and inclusive production\n",
      "\n",
      "\n",
      "processes with fresh marketing concepts, bringing our \n",
      "personal shot of vitamins to inspire the entire industry.\n",
      "\n",
      "\n",
      "THE FRUIT OF OUR LABOUR:\n",
      "\n",
      "\n",
      "OUR BRANDS\n",
      "\n",
      "\n",
      "We are very proud of our brands of fruit: Latin Pride, Oké, \n",
      "Oké Organic and Oké\n",
      "\n",
      "\n",
      "Shipment Zero  \n",
      "Shipment Zero is Amazon’s\n",
      "\n",
      "\n",
      "vision to make all Amazon shipments net zero carbon, with a goal of delivering 50% of \n",
      "shipments with net zero carbon by 2030.\n",
      "\n",
      "\n",
      "Shipment Zero means that the fulfillment operations we undertake to deliver \n",
      "a customer’s shipment are net zero carbon—from the fulfillment center where an item is picked off the shelf, to the \n",
      "materials used to package the item, and the mode of transportation that gets the package to the customer’s door.\n",
      "\n",
      "\n",
      "Electric Vehicles\n",
      "\n",
      "\n",
      "In 2019, Amazon ordered 100,000 new electric delivery vehicles from Rivian, a U.S. electric vehicle manufacturer.\n",
      "\n",
      "\n",
      "Reducing and recycling waste\n",
      "\n",
      "\n",
      "•\n",
      "\n",
      "\n",
      "Innovating for renewable energies\n",
      "\n",
      "\n",
      "•\n",
      "\n",
      "\n",
      "Helping to mitigate climate change\n",
      "\n",
      "\n"
     ]
    }
   ],
   "source": [
    "#Printing some random sentences\n",
    "\n",
    "for x in range(1,5):\n",
    "    for y in range(100,105):\n",
    "        print(df_read.sentences[x][y])\n",
    "        print('\\n')"
   ]
  },
  {
   "cell_type": "code",
   "execution_count": null,
   "metadata": {},
   "outputs": [],
   "source": [
    "\n",
    "#Function to get list with sentences from specific companies\n",
    "\n",
    "def get_report(company):\n",
    "    df_company = df_read[df_read['Company'] == company]\n",
    "    return list(df_company['sentences'])\n",
    "\n",
    "    "
   ]
  },
  {
   "cell_type": "code",
   "execution_count": 162,
   "metadata": {},
   "outputs": [],
   "source": [
    "amazon = get_report('Amazon')\n"
   ]
  },
  {
   "cell_type": "code",
   "execution_count": 164,
   "metadata": {},
   "outputs": [
    {
     "data": {
      "text/plain": [
       "'Shipment Zero means that the fulfillment operations we undertake to deliver \\na customer’s shipment are net zero carbon—from the fulfillment center where an item is picked off the shelf, to the \\nmaterials used to package the item, and the mode of transportation that gets the package to the customer’s door.'"
      ]
     },
     "execution_count": 164,
     "metadata": {},
     "output_type": "execute_result"
    }
   ],
   "source": [
    "amazon[0][102]"
   ]
  }
 ],
 "metadata": {
  "interpreter": {
   "hash": "5c42c202f02bd88f630c08504a2a70f76c65184e2d4d0e2e5410e2500b78b318"
  },
  "kernelspec": {
   "display_name": "Python 3.8.11 ('ADA')",
   "language": "python",
   "name": "python3"
  },
  "language_info": {
   "codemirror_mode": {
    "name": "ipython",
    "version": 3
   },
   "file_extension": ".py",
   "mimetype": "text/x-python",
   "name": "python",
   "nbconvert_exporter": "python",
   "pygments_lexer": "ipython3",
   "version": "3.8.11"
  },
  "orig_nbformat": 4
 },
 "nbformat": 4,
 "nbformat_minor": 2
}
