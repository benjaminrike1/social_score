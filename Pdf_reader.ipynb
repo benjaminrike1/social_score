{
 "cells": [
  {
   "cell_type": "code",
   "execution_count": 1,
   "metadata": {},
   "outputs": [],
   "source": [
    "import pandas as pd\n",
    "import fitz\n",
    "import os"
   ]
  },
  {
   "cell_type": "code",
   "execution_count": 2,
   "metadata": {},
   "outputs": [],
   "source": [
    "df = pd.DataFrame(columns = ['Company', 'text'])"
   ]
  },
  {
   "cell_type": "code",
   "execution_count": 3,
   "metadata": {},
   "outputs": [
    {
     "name": "stderr",
     "output_type": "stream",
     "text": [
      "Deprecation: 'getText' removed from class 'Page' after v1.19 - use 'get_text'.\n"
     ]
    },
    {
     "name": "stdout",
     "output_type": "stream",
     "text": [
      "reports\\ABNAMRO_2020.pdf\n",
      "reports\\AgroFair_2020.pdf\n",
      "reports\\Amazon_2020.pdf\n",
      "reports\\asr_2020.pdf\n",
      "reports\\bam_2020.pdf\n",
      "reports\\CocaCola_2020.pdf\n",
      "reports\\Dataflex_2020.pdf\n",
      "reports\\DS-Smith_2020.pdf\n",
      "reports\\Essity_2020.pdf\n",
      "reports\\Facebook_2020.pdf\n",
      "reports\\Forbo_2020.pdf\n",
      "reports\\Google_2020.pdf\n",
      "reports\\GrandVision_2020.pdf\n",
      "reports\\Grolsch_2020.pdf\n",
      "reports\\heineken_2020.pdf\n",
      "reports\\HEMA_2020.pdf\n",
      "reports\\Henkel_2020.pdf\n",
      "reports\\HP_2020.pdf\n",
      "reports\\ING_2020.pdf\n",
      "reports\\Intel_2020.pdf\n",
      "reports\\KPN_2020.pdf\n",
      "reports\\Microsoft_2020.pdf\n",
      "reports\\NNgroup_2020.pdf\n",
      "reports\\Optigroup_2020.pdf\n",
      "reports\\PepsiCo_2020.pdf\n",
      "reports\\Philips_2020.pdf\n",
      "reports\\ProcterandGamble_2020.pdf\n",
      "reports\\Renewi_2020.pdf\n",
      "reports\\Rockwool_2020.pdf\n",
      "reports\\Royal-Avebe_2020.pdf\n",
      "reports\\Shell_2020.pdf\n",
      "reports\\tarkett_2020.pdf\n",
      "reports\\Tesla_2020.pdf\n",
      "reports\\Trivium_2020.pdf\n",
      "reports\\VanLanschot_2020.pdf\n"
     ]
    }
   ],
   "source": [
    "directory = 'reports'\n",
    "\n",
    "# Reading in pdf-files using PyMuPDF\n",
    "# Adding the text to a dataframe\n",
    "\n",
    "for filename in os.listdir(directory):\n",
    "    f = os.path.join(directory, filename)\n",
    "    # checking if it is a file\n",
    "    if os.path.isfile(f):\n",
    "        pdf = fitz.open(f)\n",
    "        text = ''\n",
    "        for page in pdf:\n",
    "            text += page.getText('text')\n",
    "        print(f)\n",
    "        df = df.append(pd.DataFrame([[f,text]], columns=df.columns))"
   ]
  },
  {
   "cell_type": "code",
   "execution_count": 4,
   "metadata": {},
   "outputs": [
    {
     "data": {
      "text/html": [
       "<div>\n",
       "<style scoped>\n",
       "    .dataframe tbody tr th:only-of-type {\n",
       "        vertical-align: middle;\n",
       "    }\n",
       "\n",
       "    .dataframe tbody tr th {\n",
       "        vertical-align: top;\n",
       "    }\n",
       "\n",
       "    .dataframe thead th {\n",
       "        text-align: right;\n",
       "    }\n",
       "</style>\n",
       "<table border=\"1\" class=\"dataframe\">\n",
       "  <thead>\n",
       "    <tr style=\"text-align: right;\">\n",
       "      <th></th>\n",
       "      <th>Company</th>\n",
       "      <th>text</th>\n",
       "    </tr>\n",
       "  </thead>\n",
       "  <tbody>\n",
       "    <tr>\n",
       "      <th>0</th>\n",
       "      <td>ABNAMRO</td>\n",
       "      <td>ABN AMRO’s business, \\n strategy, performance ...</td>\n",
       "    </tr>\n",
       "    <tr>\n",
       "      <th>1</th>\n",
       "      <td>AgroFair</td>\n",
       "      <td>SUSTAINABILITY \\nREPORT 2020\\n- 03 -\\nCONTENT ...</td>\n",
       "    </tr>\n",
       "    <tr>\n",
       "      <th>2</th>\n",
       "      <td>Amazon</td>\n",
       "      <td>All In: Staying the Course  \\non Our Commitmen...</td>\n",
       "    </tr>\n",
       "    <tr>\n",
       "      <th>3</th>\n",
       "      <td>asr</td>\n",
       "      <td>Dit\\nis\\nde\\ntijd\\nvan\\ndoen.\\nAnnual Report\\n...</td>\n",
       "    </tr>\n",
       "    <tr>\n",
       "      <th>4</th>\n",
       "      <td>bam</td>\n",
       "      <td>Integrated Report \\n2020\\nRoyal BAM Group nv, ...</td>\n",
       "    </tr>\n",
       "  </tbody>\n",
       "</table>\n",
       "</div>"
      ],
      "text/plain": [
       "    Company                                               text\n",
       "0   ABNAMRO  ABN AMRO’s business, \\n strategy, performance ...\n",
       "1  AgroFair  SUSTAINABILITY \\nREPORT 2020\\n- 03 -\\nCONTENT ...\n",
       "2    Amazon  All In: Staying the Course  \\non Our Commitmen...\n",
       "3       asr  Dit\\nis\\nde\\ntijd\\nvan\\ndoen.\\nAnnual Report\\n...\n",
       "4       bam  Integrated Report \\n2020\\nRoyal BAM Group nv, ..."
      ]
     },
     "execution_count": 4,
     "metadata": {},
     "output_type": "execute_result"
    }
   ],
   "source": [
    "df['Company'] = df['Company'].apply(lambda x: x[8:-9])\n",
    "df = df.reset_index(drop=True)\n",
    "df.head()"
   ]
  },
  {
   "cell_type": "code",
   "execution_count": 5,
   "metadata": {},
   "outputs": [],
   "source": [
    "import spacy\n",
    "nlp = spacy.load('en_core_web_sm')\n",
    "\n",
    "#Increasing max length (Check if this not cause problems)\n",
    "nlp.max_length = 2000000"
   ]
  },
  {
   "cell_type": "code",
   "execution_count": 6,
   "metadata": {},
   "outputs": [],
   "source": [
    "def get_list(text):\n",
    "    doc = nlp(text)\n",
    "    sentences = [sent.string.replace('\\n', '') for sent in doc.sents]\n",
    "    return sentences"
   ]
  },
  {
   "cell_type": "code",
   "execution_count": 7,
   "metadata": {},
   "outputs": [
    {
     "data": {
      "text/html": [
       "<div>\n",
       "<style scoped>\n",
       "    .dataframe tbody tr th:only-of-type {\n",
       "        vertical-align: middle;\n",
       "    }\n",
       "\n",
       "    .dataframe tbody tr th {\n",
       "        vertical-align: top;\n",
       "    }\n",
       "\n",
       "    .dataframe thead th {\n",
       "        text-align: right;\n",
       "    }\n",
       "</style>\n",
       "<table border=\"1\" class=\"dataframe\">\n",
       "  <thead>\n",
       "    <tr style=\"text-align: right;\">\n",
       "      <th></th>\n",
       "      <th>Company</th>\n",
       "      <th>text</th>\n",
       "      <th>sentences</th>\n",
       "    </tr>\n",
       "  </thead>\n",
       "  <tbody>\n",
       "    <tr>\n",
       "      <th>0</th>\n",
       "      <td>ABNAMRO</td>\n",
       "      <td>ABN AMRO’s business, \\n strategy, performance ...</td>\n",
       "      <td>[ABN AMRO’s business,  strategy, performance a...</td>\n",
       "    </tr>\n",
       "    <tr>\n",
       "      <th>1</th>\n",
       "      <td>AgroFair</td>\n",
       "      <td>SUSTAINABILITY \\nREPORT 2020\\n- 03 -\\nCONTENT ...</td>\n",
       "      <td>[SUSTAINABILITY REPORT 2020, - 03 -CONTENT IND...</td>\n",
       "    </tr>\n",
       "    <tr>\n",
       "      <th>2</th>\n",
       "      <td>Amazon</td>\n",
       "      <td>All In: Staying the Course  \\non Our Commitmen...</td>\n",
       "      <td>[All In: Staying the Course  on Our Commitment...</td>\n",
       "    </tr>\n",
       "    <tr>\n",
       "      <th>3</th>\n",
       "      <td>asr</td>\n",
       "      <td>Dit\\nis\\nde\\ntijd\\nvan\\ndoen.\\nAnnual Report\\n...</td>\n",
       "      <td>[Ditisdetijd, vandoen., Annual Report2020, ASR...</td>\n",
       "    </tr>\n",
       "    <tr>\n",
       "      <th>4</th>\n",
       "      <td>bam</td>\n",
       "      <td>Integrated Report \\n2020\\nRoyal BAM Group nv, ...</td>\n",
       "      <td>[Integrated Report 2020, Royal BAM Group nv, R...</td>\n",
       "    </tr>\n",
       "  </tbody>\n",
       "</table>\n",
       "</div>"
      ],
      "text/plain": [
       "    Company                                               text  \\\n",
       "0   ABNAMRO  ABN AMRO’s business, \\n strategy, performance ...   \n",
       "1  AgroFair  SUSTAINABILITY \\nREPORT 2020\\n- 03 -\\nCONTENT ...   \n",
       "2    Amazon  All In: Staying the Course  \\non Our Commitmen...   \n",
       "3       asr  Dit\\nis\\nde\\ntijd\\nvan\\ndoen.\\nAnnual Report\\n...   \n",
       "4       bam  Integrated Report \\n2020\\nRoyal BAM Group nv, ...   \n",
       "\n",
       "                                           sentences  \n",
       "0  [ABN AMRO’s business,  strategy, performance a...  \n",
       "1  [SUSTAINABILITY REPORT 2020, - 03 -CONTENT IND...  \n",
       "2  [All In: Staying the Course  on Our Commitment...  \n",
       "3  [Ditisdetijd, vandoen., Annual Report2020, ASR...  \n",
       "4  [Integrated Report 2020, Royal BAM Group nv, R...  "
      ]
     },
     "execution_count": 7,
     "metadata": {},
     "output_type": "execute_result"
    }
   ],
   "source": [
    "df['sentences'] = df['text'].apply(lambda x: get_list(x))\n",
    "df.head()"
   ]
  },
  {
   "cell_type": "code",
   "execution_count": 8,
   "metadata": {},
   "outputs": [],
   "source": [
    "df.to_pickle('reports_df.pickle', protocol=4)"
   ]
  },
  {
   "cell_type": "code",
   "execution_count": 9,
   "metadata": {},
   "outputs": [],
   "source": [
    "df_read = pd.read_pickle('reports_df.pickle')"
   ]
  },
  {
   "cell_type": "code",
   "execution_count": 10,
   "metadata": {},
   "outputs": [
    {
     "data": {
      "text/html": [
       "<div>\n",
       "<style scoped>\n",
       "    .dataframe tbody tr th:only-of-type {\n",
       "        vertical-align: middle;\n",
       "    }\n",
       "\n",
       "    .dataframe tbody tr th {\n",
       "        vertical-align: top;\n",
       "    }\n",
       "\n",
       "    .dataframe thead th {\n",
       "        text-align: right;\n",
       "    }\n",
       "</style>\n",
       "<table border=\"1\" class=\"dataframe\">\n",
       "  <thead>\n",
       "    <tr style=\"text-align: right;\">\n",
       "      <th></th>\n",
       "      <th>Company</th>\n",
       "      <th>text</th>\n",
       "      <th>sentences</th>\n",
       "    </tr>\n",
       "  </thead>\n",
       "  <tbody>\n",
       "    <tr>\n",
       "      <th>0</th>\n",
       "      <td>ABNAMRO</td>\n",
       "      <td>ABN AMRO’s business, \\n strategy, performance ...</td>\n",
       "      <td>[ABN AMRO’s business,  strategy, performance a...</td>\n",
       "    </tr>\n",
       "    <tr>\n",
       "      <th>1</th>\n",
       "      <td>AgroFair</td>\n",
       "      <td>SUSTAINABILITY \\nREPORT 2020\\n- 03 -\\nCONTENT ...</td>\n",
       "      <td>[SUSTAINABILITY REPORT 2020, - 03 -CONTENT IND...</td>\n",
       "    </tr>\n",
       "    <tr>\n",
       "      <th>2</th>\n",
       "      <td>Amazon</td>\n",
       "      <td>All In: Staying the Course  \\non Our Commitmen...</td>\n",
       "      <td>[All In: Staying the Course  on Our Commitment...</td>\n",
       "    </tr>\n",
       "    <tr>\n",
       "      <th>3</th>\n",
       "      <td>asr</td>\n",
       "      <td>Dit\\nis\\nde\\ntijd\\nvan\\ndoen.\\nAnnual Report\\n...</td>\n",
       "      <td>[Ditisdetijd, vandoen., Annual Report2020, ASR...</td>\n",
       "    </tr>\n",
       "    <tr>\n",
       "      <th>4</th>\n",
       "      <td>bam</td>\n",
       "      <td>Integrated Report \\n2020\\nRoyal BAM Group nv, ...</td>\n",
       "      <td>[Integrated Report 2020, Royal BAM Group nv, R...</td>\n",
       "    </tr>\n",
       "  </tbody>\n",
       "</table>\n",
       "</div>"
      ],
      "text/plain": [
       "    Company                                               text  \\\n",
       "0   ABNAMRO  ABN AMRO’s business, \\n strategy, performance ...   \n",
       "1  AgroFair  SUSTAINABILITY \\nREPORT 2020\\n- 03 -\\nCONTENT ...   \n",
       "2    Amazon  All In: Staying the Course  \\non Our Commitmen...   \n",
       "3       asr  Dit\\nis\\nde\\ntijd\\nvan\\ndoen.\\nAnnual Report\\n...   \n",
       "4       bam  Integrated Report \\n2020\\nRoyal BAM Group nv, ...   \n",
       "\n",
       "                                           sentences  \n",
       "0  [ABN AMRO’s business,  strategy, performance a...  \n",
       "1  [SUSTAINABILITY REPORT 2020, - 03 -CONTENT IND...  \n",
       "2  [All In: Staying the Course  on Our Commitment...  \n",
       "3  [Ditisdetijd, vandoen., Annual Report2020, ASR...  \n",
       "4  [Integrated Report 2020, Royal BAM Group nv, R...  "
      ]
     },
     "execution_count": 10,
     "metadata": {},
     "output_type": "execute_result"
    }
   ],
   "source": [
    "df_read.head()"
   ]
  },
  {
   "cell_type": "code",
   "execution_count": 11,
   "metadata": {},
   "outputs": [
    {
     "name": "stdout",
     "output_type": "stream",
     "text": [
      "We are always looking to combine innovations in logistics and sustainable and inclusive production \n",
      "\n",
      "\n",
      "processes with fresh marketing concepts, bringing our personal shot of vitamins to inspire the entire industry.  \n",
      "\n",
      "\n",
      "THE FRUIT OF OUR LABOUR: \n",
      "\n",
      "\n",
      "OUR BRANDS\n",
      "\n",
      "\n",
      "We are very proud of our brands of fruit: Latin Pride, Oké, Oké Organic and Oké \n",
      "\n",
      "\n",
      "Shipment Zero  Shipment Zero is Amazon’s \n",
      "\n",
      "\n",
      "vision to make all Amazon shipments net zero carbon, with a goal of delivering 50% of shipments with net zero carbon by 2030. \n",
      "\n",
      "\n",
      "Shipment Zero means that the fulfillment operations we undertake to deliver a customer’s shipment are net zero carbon—from the fulfillment center where an item is picked off the shelf, to the materials used to package the item, and the mode of transportation that gets the package to the customer’s door. \n",
      "\n",
      "\n",
      "Electric Vehicles  \n",
      "\n",
      "\n",
      "In 2019, Amazon ordered 100,000 new electric delivery vehicles from Rivian, a U.S. electric vehicle manufacturer. \n",
      "\n",
      "\n",
      "183\n",
      "\n",
      "\n",
      "6.5\n",
      "\n",
      "\n",
      "Notes to the consolidated balance sheet\n",
      "\n",
      "\n",
      "194\n",
      "\n",
      "\n",
      "6.6\n",
      "\n",
      "\n",
      "1.0\n",
      "\n",
      "\n",
      "Net result attributable to the shareholders of the Company as % of revenue(1.8)\n",
      "\n",
      "\n",
      "0.2\n",
      "\n",
      "\n",
      "Net result attributable to the shareholders of the Company as % of average equity(20.2)1.7ROCE (in %)(4.2)\n",
      "\n",
      "\n",
      "3.4Capital ratios\n",
      "\n",
      "\n"
     ]
    }
   ],
   "source": [
    "#Printing some random sentences\n",
    "\n",
    "for x in range(1,5):\n",
    "    for y in range(100,105):\n",
    "        print(df_read.sentences[x][y])\n",
    "        print('\\n')"
   ]
  },
  {
   "cell_type": "code",
   "execution_count": 12,
   "metadata": {},
   "outputs": [],
   "source": [
    "\n",
    "#Function to get list with sentences from specific companies\n",
    "\n",
    "def get_report(company):\n",
    "    df_company = df_read[df_read['Company'] == company]\n",
    "    return list(df_company['sentences'])\n",
    "\n",
    "    "
   ]
  },
  {
   "cell_type": "code",
   "execution_count": 13,
   "metadata": {},
   "outputs": [],
   "source": [
    "amazon = get_report('Amazon')\n"
   ]
  },
  {
   "cell_type": "code",
   "execution_count": 14,
   "metadata": {},
   "outputs": [
    {
     "data": {
      "text/plain": [
       "'Shipment Zero means that the fulfillment operations we undertake to deliver a customer’s shipment are net zero carbon—from the fulfillment center where an item is picked off the shelf, to the materials used to package the item, and the mode of transportation that gets the package to the customer’s door. '"
      ]
     },
     "execution_count": 14,
     "metadata": {},
     "output_type": "execute_result"
    }
   ],
   "source": [
    "amazon[0][102]"
   ]
  }
 ],
 "metadata": {
  "interpreter": {
   "hash": "5c42c202f02bd88f630c08504a2a70f76c65184e2d4d0e2e5410e2500b78b318"
  },
  "kernelspec": {
   "display_name": "Python 3.8.11 ('ADA')",
   "language": "python",
   "name": "python3"
  },
  "language_info": {
   "codemirror_mode": {
    "name": "ipython",
    "version": 3
   },
   "file_extension": ".py",
   "mimetype": "text/x-python",
   "name": "python",
   "nbconvert_exporter": "python",
   "pygments_lexer": "ipython3",
   "version": "3.8.11"
  },
  "orig_nbformat": 4
 },
 "nbformat": 4,
 "nbformat_minor": 2
}
