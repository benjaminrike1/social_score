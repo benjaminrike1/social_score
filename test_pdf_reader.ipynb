{
 "cells": [
  {
   "cell_type": "code",
   "execution_count": 32,
   "metadata": {},
   "outputs": [],
   "source": [
    "import pandas as pd\n",
    "import spacy, nltk, gensim, sklearn\n",
    "\n",
    "\n",
    "#PDF readers\n",
    "import pdfplumber\n",
    "import pdfminer\n"
   ]
  },
  {
   "cell_type": "code",
   "execution_count": 33,
   "metadata": {},
   "outputs": [],
   "source": [
    "df = pd.DataFrame(columns = ['Company', 'text'])"
   ]
  },
  {
   "cell_type": "code",
   "execution_count": 34,
   "metadata": {},
   "outputs": [],
   "source": [
    "#PDF plumber\n",
    "pdf = pdfplumber.open('reports/Microsoft_2021.pdf')\n",
    "text = ''\n",
    "for page in pdf.pages:\n",
    "    text += page.extract_text()\n",
    "df = df.append(pd.DataFrame([['Microsoft_plumber',text]], columns=df.columns))"
   ]
  },
  {
   "cell_type": "code",
   "execution_count": 35,
   "metadata": {},
   "outputs": [],
   "source": [
    "from pdfminer.high_level import extract_text"
   ]
  },
  {
   "cell_type": "code",
   "execution_count": 36,
   "metadata": {},
   "outputs": [],
   "source": [
    "#Pdf miner\n",
    "\n",
    "text_miner = extract_text('reports/Microsoft_2021.pdf')\n",
    "df = df.append(pd.DataFrame([['Microsoft_miner',text_miner]], columns=df.columns))\n"
   ]
  },
  {
   "cell_type": "code",
   "execution_count": 37,
   "metadata": {},
   "outputs": [],
   "source": [
    "from PyPDF3 import PdfFileReader\n",
    "\n",
    "text_PDF3 = PdfFileReader('reports/Microsoft_2021.pdf')\n",
    "\n",
    "for page in text_PDF3.pages:\n",
    "\n",
    "    text += page.extractText()\n",
    "df = df.append(pd.DataFrame([['Microsoft_PDF3',text]], columns=df.columns))\n",
    "\n"
   ]
  },
  {
   "cell_type": "code",
   "execution_count": 38,
   "metadata": {},
   "outputs": [
    {
     "data": {
      "text/html": [
       "<div>\n",
       "<style scoped>\n",
       "    .dataframe tbody tr th:only-of-type {\n",
       "        vertical-align: middle;\n",
       "    }\n",
       "\n",
       "    .dataframe tbody tr th {\n",
       "        vertical-align: top;\n",
       "    }\n",
       "\n",
       "    .dataframe thead th {\n",
       "        text-align: right;\n",
       "    }\n",
       "</style>\n",
       "<table border=\"1\" class=\"dataframe\">\n",
       "  <thead>\n",
       "    <tr style=\"text-align: right;\">\n",
       "      <th></th>\n",
       "      <th>Company</th>\n",
       "      <th>text</th>\n",
       "    </tr>\n",
       "  </thead>\n",
       "  <tbody>\n",
       "    <tr>\n",
       "      <th>0</th>\n",
       "      <td>Microsoft_plumber</td>\n",
       "      <td>2021  \\nEnvironmental  \\nSustainability \\n \\nR...</td>\n",
       "    </tr>\n",
       "    <tr>\n",
       "      <th>0</th>\n",
       "      <td>Microsoft_miner</td>\n",
       "      <td>2021 \\nEnvironmental \\nSustainability \\nReport...</td>\n",
       "    </tr>\n",
       "    <tr>\n",
       "      <th>0</th>\n",
       "      <td>Microsoft_PDF3</td>\n",
       "      <td>2021  \\nEnvironmental  \\nSustainability \\n \\nR...</td>\n",
       "    </tr>\n",
       "  </tbody>\n",
       "</table>\n",
       "</div>"
      ],
      "text/plain": [
       "             Company                                               text\n",
       "0  Microsoft_plumber  2021  \\nEnvironmental  \\nSustainability \\n \\nR...\n",
       "0    Microsoft_miner  2021 \\nEnvironmental \\nSustainability \\nReport...\n",
       "0     Microsoft_PDF3  2021  \\nEnvironmental  \\nSustainability \\n \\nR..."
      ]
     },
     "execution_count": 38,
     "metadata": {},
     "output_type": "execute_result"
    }
   ],
   "source": [
    "df\n"
   ]
  },
  {
   "cell_type": "code",
   "execution_count": 39,
   "metadata": {},
   "outputs": [],
   "source": [
    "nlp1 = spacy.load('en_core_web_sm')"
   ]
  },
  {
   "cell_type": "code",
   "execution_count": 40,
   "metadata": {},
   "outputs": [
    {
     "data": {
      "text/html": [
       "<div>\n",
       "<style scoped>\n",
       "    .dataframe tbody tr th:only-of-type {\n",
       "        vertical-align: middle;\n",
       "    }\n",
       "\n",
       "    .dataframe tbody tr th {\n",
       "        vertical-align: top;\n",
       "    }\n",
       "\n",
       "    .dataframe thead th {\n",
       "        text-align: right;\n",
       "    }\n",
       "</style>\n",
       "<table border=\"1\" class=\"dataframe\">\n",
       "  <thead>\n",
       "    <tr style=\"text-align: right;\">\n",
       "      <th></th>\n",
       "      <th>Company</th>\n",
       "      <th>text</th>\n",
       "      <th>sentences</th>\n",
       "    </tr>\n",
       "  </thead>\n",
       "  <tbody>\n",
       "    <tr>\n",
       "      <th>0</th>\n",
       "      <td>Microsoft_plumber</td>\n",
       "      <td>2021  \\nEnvironmental  \\nSustainability \\n \\nR...</td>\n",
       "      <td>(2021,  \\n, Environmental,  \\n, Sustainability...</td>\n",
       "    </tr>\n",
       "    <tr>\n",
       "      <th>0</th>\n",
       "      <td>Microsoft_miner</td>\n",
       "      <td>2021 \\nEnvironmental \\nSustainability \\nReport...</td>\n",
       "      <td>(2021,  \\n, Environmental,  \\n, Sustainability...</td>\n",
       "    </tr>\n",
       "    <tr>\n",
       "      <th>0</th>\n",
       "      <td>Microsoft_PDF3</td>\n",
       "      <td>2021  \\nEnvironmental  \\nSustainability \\n \\nR...</td>\n",
       "      <td>(2021,  \\n, Environmental,  \\n, Sustainability...</td>\n",
       "    </tr>\n",
       "  </tbody>\n",
       "</table>\n",
       "</div>"
      ],
      "text/plain": [
       "             Company                                               text  \\\n",
       "0  Microsoft_plumber  2021  \\nEnvironmental  \\nSustainability \\n \\nR...   \n",
       "0    Microsoft_miner  2021 \\nEnvironmental \\nSustainability \\nReport...   \n",
       "0     Microsoft_PDF3  2021  \\nEnvironmental  \\nSustainability \\n \\nR...   \n",
       "\n",
       "                                           sentences  \n",
       "0  (2021,  \\n, Environmental,  \\n, Sustainability...  \n",
       "0  (2021,  \\n, Environmental,  \\n, Sustainability...  \n",
       "0  (2021,  \\n, Environmental,  \\n, Sustainability...  "
      ]
     },
     "execution_count": 40,
     "metadata": {},
     "output_type": "execute_result"
    }
   ],
   "source": [
    "df['sentences'] = df['text'].apply(lambda x: nlp1(text))\n",
    "\n",
    "df"
   ]
  }
 ],
 "metadata": {
  "interpreter": {
   "hash": "5c42c202f02bd88f630c08504a2a70f76c65184e2d4d0e2e5410e2500b78b318"
  },
  "kernelspec": {
   "display_name": "Python 3.8.11 ('ADA')",
   "language": "python",
   "name": "python3"
  },
  "language_info": {
   "codemirror_mode": {
    "name": "ipython",
    "version": 3
   },
   "file_extension": ".py",
   "mimetype": "text/x-python",
   "name": "python",
   "nbconvert_exporter": "python",
   "pygments_lexer": "ipython3",
   "version": "3.8.11"
  },
  "orig_nbformat": 4
 },
 "nbformat": 4,
 "nbformat_minor": 2
}
