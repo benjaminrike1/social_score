{
 "cells": [
  {
   "cell_type": "code",
   "execution_count": 1,
   "metadata": {},
   "outputs": [
    {
     "name": "stderr",
     "output_type": "stream",
     "text": [
      "c:\\Users\\asbjo\\anaconda3\\envs\\ADA\\lib\\site-packages\\gensim\\similarities\\__init__.py:15: UserWarning: The gensim.similarities.levenshtein submodule is disabled, because the optional Levenshtein package <https://pypi.org/project/python-Levenshtein/> is unavailable. Install Levenhstein (e.g. `pip install python-Levenshtein`) to suppress this warning.\n",
      "  warnings.warn(msg)\n"
     ]
    }
   ],
   "source": [
    "import pandas as pd\n",
    "import spacy, nltk, gensim, sklearn\n",
    "\n",
    "\n",
    "#PDF readers\n",
    "import pdfplumber\n",
    "import pdfminer\n"
   ]
  },
  {
   "cell_type": "code",
   "execution_count": 2,
   "metadata": {},
   "outputs": [],
   "source": [
    "df = pd.DataFrame(columns = ['Company', 'text'])"
   ]
  },
  {
   "cell_type": "code",
   "execution_count": 3,
   "metadata": {},
   "outputs": [],
   "source": [
    "#PDF plumber\n",
    "pdf = pdfplumber.open('Microsoft_2021_copy.pdf')\n",
    "text = ''\n",
    "for page in pdf.pages:\n",
    "    text += page.extract_text()\n",
    "df = df.append(pd.DataFrame([['Microsoft_plumber',text]], columns=df.columns))"
   ]
  },
  {
   "cell_type": "code",
   "execution_count": 5,
   "metadata": {},
   "outputs": [],
   "source": [
    "from pdfminer.high_level import extract_text"
   ]
  },
  {
   "cell_type": "code",
   "execution_count": 8,
   "metadata": {},
   "outputs": [],
   "source": [
    "#Pdf miner\n",
    "\n",
    "text_miner = extract_text('Microsoft_2021_copy.pdf')\n",
    "df = df.append(pd.DataFrame([['Microsoft_miner',text_miner]], columns=df.columns))\n"
   ]
  }
 ],
 "metadata": {
  "interpreter": {
   "hash": "5c42c202f02bd88f630c08504a2a70f76c65184e2d4d0e2e5410e2500b78b318"
  },
  "kernelspec": {
   "display_name": "Python 3.8.11 ('ADA')",
   "language": "python",
   "name": "python3"
  },
  "language_info": {
   "codemirror_mode": {
    "name": "ipython",
    "version": 3
   },
   "file_extension": ".py",
   "mimetype": "text/x-python",
   "name": "python",
   "nbconvert_exporter": "python",
   "pygments_lexer": "ipython3",
   "version": "3.8.11"
  },
  "orig_nbformat": 4
 },
 "nbformat": 4,
 "nbformat_minor": 2
}
