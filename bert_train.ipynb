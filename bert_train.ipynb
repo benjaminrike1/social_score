{
  "nbformat": 4,
  "nbformat_minor": 0,
  "metadata": {
    "colab": {
      "name": "bert_train.ipynb",
      "provenance": [],
      "collapsed_sections": []
    },
    "kernelspec": {
      "name": "python3",
      "display_name": "Python 3"
    },
    "language_info": {
      "name": "python"
    }
  },
  "cells": [
    {
      "cell_type": "markdown",
      "source": [
        "##Setup and imports"
      ],
      "metadata": {
        "id": "reRp47tB1Uai"
      }
    },
    {
      "cell_type": "code",
      "execution_count": 1,
      "metadata": {
        "colab": {
          "base_uri": "https://localhost:8080/"
        },
        "id": "ntPxKC8eGQym",
        "outputId": "b4d344f7-194e-4278-cf39-3dfaaf18109b"
      },
      "outputs": [
        {
          "output_type": "stream",
          "name": "stdout",
          "text": [
            "Mounted at /content/drive\n"
          ]
        }
      ],
      "source": [
        "from google.colab import drive\n",
        "drive.mount('/content/drive')"
      ]
    },
    {
      "cell_type": "code",
      "source": [
        "!git clone https://github.com/benjaminrike1/social_score_csr_reports.git"
      ],
      "metadata": {
        "colab": {
          "base_uri": "https://localhost:8080/"
        },
        "id": "FYuo7AHtGeHy",
        "outputId": "c7f9d362-90e7-4cfa-de6b-e24f0f26c1af"
      },
      "execution_count": 2,
      "outputs": [
        {
          "output_type": "stream",
          "name": "stdout",
          "text": [
            "Cloning into 'social_score_csr_reports'...\n",
            "remote: Enumerating objects: 86, done.\u001b[K\n",
            "remote: Counting objects: 100% (40/40), done.\u001b[K\n",
            "remote: Compressing objects: 100% (26/26), done.\u001b[K\n",
            "remote: Total 86 (delta 9), reused 40 (delta 9), pack-reused 46\u001b[K\n",
            "Unpacking objects: 100% (86/86), done.\n",
            "Checking out files: 100% (51/51), done.\n"
          ]
        }
      ]
    },
    {
      "cell_type": "code",
      "source": [
        "# A dependency of the preprocessing for BERT inputs\n",
        "!pip install -q -U \"tensorflow-text==2.8.*\""
      ],
      "metadata": {
        "colab": {
          "base_uri": "https://localhost:8080/"
        },
        "id": "l6QRxkASGnaY",
        "outputId": "7b02bb92-887a-4120-8747-03d868440d2f"
      },
      "execution_count": 3,
      "outputs": [
        {
          "output_type": "stream",
          "name": "stdout",
          "text": [
            "\u001b[K     |████████████████████████████████| 4.9 MB 9.8 MB/s \n",
            "\u001b[K     |████████████████████████████████| 462 kB 37.4 MB/s \n",
            "\u001b[?25h"
          ]
        }
      ]
    },
    {
      "cell_type": "code",
      "source": [
        "pip install -q tf-models-official==2.7.0"
      ],
      "metadata": {
        "colab": {
          "base_uri": "https://localhost:8080/"
        },
        "id": "RlQ6Ews9HotB",
        "outputId": "2786446c-ee65-4388-c01f-06c1dabd29d8"
      },
      "execution_count": 4,
      "outputs": [
        {
          "output_type": "stream",
          "name": "stdout",
          "text": [
            "\u001b[K     |████████████████████████████████| 1.8 MB 5.8 MB/s \n",
            "\u001b[K     |████████████████████████████████| 352 kB 25.4 MB/s \n",
            "\u001b[K     |████████████████████████████████| 1.1 MB 53.7 MB/s \n",
            "\u001b[K     |████████████████████████████████| 90 kB 7.6 MB/s \n",
            "\u001b[K     |████████████████████████████████| 43 kB 1.6 MB/s \n",
            "\u001b[K     |████████████████████████████████| 99 kB 7.4 MB/s \n",
            "\u001b[K     |████████████████████████████████| 237 kB 47.2 MB/s \n",
            "\u001b[K     |████████████████████████████████| 1.2 MB 36.8 MB/s \n",
            "\u001b[K     |████████████████████████████████| 47.8 MB 67 kB/s \n",
            "\u001b[K     |████████████████████████████████| 596 kB 46.7 MB/s \n",
            "\u001b[?25h  Building wheel for py-cpuinfo (setup.py) ... \u001b[?25l\u001b[?25hdone\n",
            "  Building wheel for seqeval (setup.py) ... \u001b[?25l\u001b[?25hdone\n"
          ]
        }
      ]
    },
    {
      "cell_type": "code",
      "source": [
        "import os\n",
        "import shutil\n",
        "\n",
        "import tensorflow as tf\n",
        "import tensorflow_hub as hub\n",
        "import tensorflow_text as text\n",
        "from official.nlp import optimization  # to create AdamW optimizer\n",
        "\n",
        "import matplotlib.pyplot as plt\n",
        "\n",
        "tf.get_logger().setLevel('ERROR')\n",
        "tf.random.set_seed(42)"
      ],
      "metadata": {
        "id": "s29NgQOlHvwK"
      },
      "execution_count": 5,
      "outputs": []
    },
    {
      "cell_type": "code",
      "source": [
        "import pandas as pd\n",
        "import numpy as np\n",
        "import matplotlib.pyplot as plt"
      ],
      "metadata": {
        "id": "ZEszB7RW3BCN"
      },
      "execution_count": 6,
      "outputs": []
    },
    {
      "cell_type": "markdown",
      "source": [
        "## Loading the data"
      ],
      "metadata": {
        "id": "omKNfbGz5no6"
      }
    },
    {
      "cell_type": "code",
      "source": [
        "data_path = 'social_score_csr_reports/'"
      ],
      "metadata": {
        "id": "bUUGHzur25ab"
      },
      "execution_count": 19,
      "outputs": []
    },
    {
      "cell_type": "code",
      "source": [
        "training = pd.read_csv(data_path+'training.csv', names=['criteria', 'label'], index_col=False)\n",
        "training.head(5)"
      ],
      "metadata": {
        "colab": {
          "base_uri": "https://localhost:8080/",
          "height": 206
        },
        "id": "2CEUr0wlHyNH",
        "outputId": "7d1fe1a7-76c3-4d43-9e25-8676116ec8d9"
      },
      "execution_count": 65,
      "outputs": [
        {
          "output_type": "execute_result",
          "data": {
            "text/plain": [
              "                               criteria  label\n",
              "0   Focus group on strengthening social      1\n",
              "1           Employees contribute to ESG      1\n",
              "2  All employees are provided insurance      1\n",
              "3         allow employees to take leave      1\n",
              "4            Occupational health system      1"
            ],
            "text/html": [
              "\n",
              "  <div id=\"df-0e801465-a7fc-4110-833d-24e4f2a01150\">\n",
              "    <div class=\"colab-df-container\">\n",
              "      <div>\n",
              "<style scoped>\n",
              "    .dataframe tbody tr th:only-of-type {\n",
              "        vertical-align: middle;\n",
              "    }\n",
              "\n",
              "    .dataframe tbody tr th {\n",
              "        vertical-align: top;\n",
              "    }\n",
              "\n",
              "    .dataframe thead th {\n",
              "        text-align: right;\n",
              "    }\n",
              "</style>\n",
              "<table border=\"1\" class=\"dataframe\">\n",
              "  <thead>\n",
              "    <tr style=\"text-align: right;\">\n",
              "      <th></th>\n",
              "      <th>criteria</th>\n",
              "      <th>label</th>\n",
              "    </tr>\n",
              "  </thead>\n",
              "  <tbody>\n",
              "    <tr>\n",
              "      <th>0</th>\n",
              "      <td>Focus group on strengthening social</td>\n",
              "      <td>1</td>\n",
              "    </tr>\n",
              "    <tr>\n",
              "      <th>1</th>\n",
              "      <td>Employees contribute to ESG</td>\n",
              "      <td>1</td>\n",
              "    </tr>\n",
              "    <tr>\n",
              "      <th>2</th>\n",
              "      <td>All employees are provided insurance</td>\n",
              "      <td>1</td>\n",
              "    </tr>\n",
              "    <tr>\n",
              "      <th>3</th>\n",
              "      <td>allow employees to take leave</td>\n",
              "      <td>1</td>\n",
              "    </tr>\n",
              "    <tr>\n",
              "      <th>4</th>\n",
              "      <td>Occupational health system</td>\n",
              "      <td>1</td>\n",
              "    </tr>\n",
              "  </tbody>\n",
              "</table>\n",
              "</div>\n",
              "      <button class=\"colab-df-convert\" onclick=\"convertToInteractive('df-0e801465-a7fc-4110-833d-24e4f2a01150')\"\n",
              "              title=\"Convert this dataframe to an interactive table.\"\n",
              "              style=\"display:none;\">\n",
              "        \n",
              "  <svg xmlns=\"http://www.w3.org/2000/svg\" height=\"24px\"viewBox=\"0 0 24 24\"\n",
              "       width=\"24px\">\n",
              "    <path d=\"M0 0h24v24H0V0z\" fill=\"none\"/>\n",
              "    <path d=\"M18.56 5.44l.94 2.06.94-2.06 2.06-.94-2.06-.94-.94-2.06-.94 2.06-2.06.94zm-11 1L8.5 8.5l.94-2.06 2.06-.94-2.06-.94L8.5 2.5l-.94 2.06-2.06.94zm10 10l.94 2.06.94-2.06 2.06-.94-2.06-.94-.94-2.06-.94 2.06-2.06.94z\"/><path d=\"M17.41 7.96l-1.37-1.37c-.4-.4-.92-.59-1.43-.59-.52 0-1.04.2-1.43.59L10.3 9.45l-7.72 7.72c-.78.78-.78 2.05 0 2.83L4 21.41c.39.39.9.59 1.41.59.51 0 1.02-.2 1.41-.59l7.78-7.78 2.81-2.81c.8-.78.8-2.07 0-2.86zM5.41 20L4 18.59l7.72-7.72 1.47 1.35L5.41 20z\"/>\n",
              "  </svg>\n",
              "      </button>\n",
              "      \n",
              "  <style>\n",
              "    .colab-df-container {\n",
              "      display:flex;\n",
              "      flex-wrap:wrap;\n",
              "      gap: 12px;\n",
              "    }\n",
              "\n",
              "    .colab-df-convert {\n",
              "      background-color: #E8F0FE;\n",
              "      border: none;\n",
              "      border-radius: 50%;\n",
              "      cursor: pointer;\n",
              "      display: none;\n",
              "      fill: #1967D2;\n",
              "      height: 32px;\n",
              "      padding: 0 0 0 0;\n",
              "      width: 32px;\n",
              "    }\n",
              "\n",
              "    .colab-df-convert:hover {\n",
              "      background-color: #E2EBFA;\n",
              "      box-shadow: 0px 1px 2px rgba(60, 64, 67, 0.3), 0px 1px 3px 1px rgba(60, 64, 67, 0.15);\n",
              "      fill: #174EA6;\n",
              "    }\n",
              "\n",
              "    [theme=dark] .colab-df-convert {\n",
              "      background-color: #3B4455;\n",
              "      fill: #D2E3FC;\n",
              "    }\n",
              "\n",
              "    [theme=dark] .colab-df-convert:hover {\n",
              "      background-color: #434B5C;\n",
              "      box-shadow: 0px 1px 3px 1px rgba(0, 0, 0, 0.15);\n",
              "      filter: drop-shadow(0px 1px 2px rgba(0, 0, 0, 0.3));\n",
              "      fill: #FFFFFF;\n",
              "    }\n",
              "  </style>\n",
              "\n",
              "      <script>\n",
              "        const buttonEl =\n",
              "          document.querySelector('#df-0e801465-a7fc-4110-833d-24e4f2a01150 button.colab-df-convert');\n",
              "        buttonEl.style.display =\n",
              "          google.colab.kernel.accessAllowed ? 'block' : 'none';\n",
              "\n",
              "        async function convertToInteractive(key) {\n",
              "          const element = document.querySelector('#df-0e801465-a7fc-4110-833d-24e4f2a01150');\n",
              "          const dataTable =\n",
              "            await google.colab.kernel.invokeFunction('convertToInteractive',\n",
              "                                                     [key], {});\n",
              "          if (!dataTable) return;\n",
              "\n",
              "          const docLinkHtml = 'Like what you see? Visit the ' +\n",
              "            '<a target=\"_blank\" href=https://colab.research.google.com/notebooks/data_table.ipynb>data table notebook</a>'\n",
              "            + ' to learn more about interactive tables.';\n",
              "          element.innerHTML = '';\n",
              "          dataTable['output_type'] = 'display_data';\n",
              "          await google.colab.output.renderOutput(dataTable, element);\n",
              "          const docLink = document.createElement('div');\n",
              "          docLink.innerHTML = docLinkHtml;\n",
              "          element.appendChild(docLink);\n",
              "        }\n",
              "      </script>\n",
              "    </div>\n",
              "  </div>\n",
              "  "
            ]
          },
          "metadata": {},
          "execution_count": 65
        }
      ]
    },
    {
      "cell_type": "code",
      "source": [
        "print('Number of positive labels (training): %d'%(training[training.label==1]['label'].count()))\n",
        "print('Number of neutral labels (training): %d'%(training[training.label==0]['label'].count()))\n",
        "print('Number of negative labels (training): %d'%(training[training.label==-1]['label'].count()))"
      ],
      "metadata": {
        "colab": {
          "base_uri": "https://localhost:8080/"
        },
        "id": "9PmTmgjx2_8D",
        "outputId": "d614f1ed-21c4-4408-b436-ae92d25fba80"
      },
      "execution_count": 66,
      "outputs": [
        {
          "output_type": "stream",
          "name": "stdout",
          "text": [
            "Number of positive labels (training): 384\n",
            "Number of neutral labels (training): 47\n",
            "Number of negative labels (training): 132\n"
          ]
        }
      ]
    },
    {
      "cell_type": "code",
      "source": [
        "# to ensure correct values in sparse softmax\n",
        "training['label'] = training['label'].apply(lambda x: 2 if x==-1 else x)"
      ],
      "metadata": {
        "id": "TbhOYqcODNjN"
      },
      "execution_count": 67,
      "outputs": []
    },
    {
      "cell_type": "code",
      "source": [
        "validation = pd.read_csv(data_path+'validation.csv', names=['criteria', 'label'], index_col=False)\n",
        "validation.head(5)"
      ],
      "metadata": {
        "colab": {
          "base_uri": "https://localhost:8080/",
          "height": 206
        },
        "id": "AOT7pPTL4fM5",
        "outputId": "151a43b8-d929-4ad6-d808-25cc5b101005"
      },
      "execution_count": 23,
      "outputs": [
        {
          "output_type": "execute_result",
          "data": {
            "text/plain": [
              "                                            criteria  label\n",
              "0                   The turnover ratio has increased     -1\n",
              "1  We provide free health care to all our full ti...      1\n",
              "2  All employees have the right to parental leave...      1\n",
              "3  We report health and safety in a standardized ...      1\n",
              "4  Risk assesment is an important are of focus fo...      1"
            ],
            "text/html": [
              "\n",
              "  <div id=\"df-24169dba-d1b0-42a7-a5b7-e53990061e32\">\n",
              "    <div class=\"colab-df-container\">\n",
              "      <div>\n",
              "<style scoped>\n",
              "    .dataframe tbody tr th:only-of-type {\n",
              "        vertical-align: middle;\n",
              "    }\n",
              "\n",
              "    .dataframe tbody tr th {\n",
              "        vertical-align: top;\n",
              "    }\n",
              "\n",
              "    .dataframe thead th {\n",
              "        text-align: right;\n",
              "    }\n",
              "</style>\n",
              "<table border=\"1\" class=\"dataframe\">\n",
              "  <thead>\n",
              "    <tr style=\"text-align: right;\">\n",
              "      <th></th>\n",
              "      <th>criteria</th>\n",
              "      <th>label</th>\n",
              "    </tr>\n",
              "  </thead>\n",
              "  <tbody>\n",
              "    <tr>\n",
              "      <th>0</th>\n",
              "      <td>The turnover ratio has increased</td>\n",
              "      <td>-1</td>\n",
              "    </tr>\n",
              "    <tr>\n",
              "      <th>1</th>\n",
              "      <td>We provide free health care to all our full ti...</td>\n",
              "      <td>1</td>\n",
              "    </tr>\n",
              "    <tr>\n",
              "      <th>2</th>\n",
              "      <td>All employees have the right to parental leave...</td>\n",
              "      <td>1</td>\n",
              "    </tr>\n",
              "    <tr>\n",
              "      <th>3</th>\n",
              "      <td>We report health and safety in a standardized ...</td>\n",
              "      <td>1</td>\n",
              "    </tr>\n",
              "    <tr>\n",
              "      <th>4</th>\n",
              "      <td>Risk assesment is an important are of focus fo...</td>\n",
              "      <td>1</td>\n",
              "    </tr>\n",
              "  </tbody>\n",
              "</table>\n",
              "</div>\n",
              "      <button class=\"colab-df-convert\" onclick=\"convertToInteractive('df-24169dba-d1b0-42a7-a5b7-e53990061e32')\"\n",
              "              title=\"Convert this dataframe to an interactive table.\"\n",
              "              style=\"display:none;\">\n",
              "        \n",
              "  <svg xmlns=\"http://www.w3.org/2000/svg\" height=\"24px\"viewBox=\"0 0 24 24\"\n",
              "       width=\"24px\">\n",
              "    <path d=\"M0 0h24v24H0V0z\" fill=\"none\"/>\n",
              "    <path d=\"M18.56 5.44l.94 2.06.94-2.06 2.06-.94-2.06-.94-.94-2.06-.94 2.06-2.06.94zm-11 1L8.5 8.5l.94-2.06 2.06-.94-2.06-.94L8.5 2.5l-.94 2.06-2.06.94zm10 10l.94 2.06.94-2.06 2.06-.94-2.06-.94-.94-2.06-.94 2.06-2.06.94z\"/><path d=\"M17.41 7.96l-1.37-1.37c-.4-.4-.92-.59-1.43-.59-.52 0-1.04.2-1.43.59L10.3 9.45l-7.72 7.72c-.78.78-.78 2.05 0 2.83L4 21.41c.39.39.9.59 1.41.59.51 0 1.02-.2 1.41-.59l7.78-7.78 2.81-2.81c.8-.78.8-2.07 0-2.86zM5.41 20L4 18.59l7.72-7.72 1.47 1.35L5.41 20z\"/>\n",
              "  </svg>\n",
              "      </button>\n",
              "      \n",
              "  <style>\n",
              "    .colab-df-container {\n",
              "      display:flex;\n",
              "      flex-wrap:wrap;\n",
              "      gap: 12px;\n",
              "    }\n",
              "\n",
              "    .colab-df-convert {\n",
              "      background-color: #E8F0FE;\n",
              "      border: none;\n",
              "      border-radius: 50%;\n",
              "      cursor: pointer;\n",
              "      display: none;\n",
              "      fill: #1967D2;\n",
              "      height: 32px;\n",
              "      padding: 0 0 0 0;\n",
              "      width: 32px;\n",
              "    }\n",
              "\n",
              "    .colab-df-convert:hover {\n",
              "      background-color: #E2EBFA;\n",
              "      box-shadow: 0px 1px 2px rgba(60, 64, 67, 0.3), 0px 1px 3px 1px rgba(60, 64, 67, 0.15);\n",
              "      fill: #174EA6;\n",
              "    }\n",
              "\n",
              "    [theme=dark] .colab-df-convert {\n",
              "      background-color: #3B4455;\n",
              "      fill: #D2E3FC;\n",
              "    }\n",
              "\n",
              "    [theme=dark] .colab-df-convert:hover {\n",
              "      background-color: #434B5C;\n",
              "      box-shadow: 0px 1px 3px 1px rgba(0, 0, 0, 0.15);\n",
              "      filter: drop-shadow(0px 1px 2px rgba(0, 0, 0, 0.3));\n",
              "      fill: #FFFFFF;\n",
              "    }\n",
              "  </style>\n",
              "\n",
              "      <script>\n",
              "        const buttonEl =\n",
              "          document.querySelector('#df-24169dba-d1b0-42a7-a5b7-e53990061e32 button.colab-df-convert');\n",
              "        buttonEl.style.display =\n",
              "          google.colab.kernel.accessAllowed ? 'block' : 'none';\n",
              "\n",
              "        async function convertToInteractive(key) {\n",
              "          const element = document.querySelector('#df-24169dba-d1b0-42a7-a5b7-e53990061e32');\n",
              "          const dataTable =\n",
              "            await google.colab.kernel.invokeFunction('convertToInteractive',\n",
              "                                                     [key], {});\n",
              "          if (!dataTable) return;\n",
              "\n",
              "          const docLinkHtml = 'Like what you see? Visit the ' +\n",
              "            '<a target=\"_blank\" href=https://colab.research.google.com/notebooks/data_table.ipynb>data table notebook</a>'\n",
              "            + ' to learn more about interactive tables.';\n",
              "          element.innerHTML = '';\n",
              "          dataTable['output_type'] = 'display_data';\n",
              "          await google.colab.output.renderOutput(dataTable, element);\n",
              "          const docLink = document.createElement('div');\n",
              "          docLink.innerHTML = docLinkHtml;\n",
              "          element.appendChild(docLink);\n",
              "        }\n",
              "      </script>\n",
              "    </div>\n",
              "  </div>\n",
              "  "
            ]
          },
          "metadata": {},
          "execution_count": 23
        }
      ]
    },
    {
      "cell_type": "code",
      "source": [
        "print('Number of positive labels (validation): %d'%(validation[validation.label==1]['label'].count()))\n",
        "print('Number of neutral labels (validation): %d'%(validation[validation.label==0]['label'].count()))\n",
        "print('Number of negative labels (validation): %d'%(validation[validation.label==-1]['label'].count()))"
      ],
      "metadata": {
        "colab": {
          "base_uri": "https://localhost:8080/"
        },
        "id": "gPWMfge543ml",
        "outputId": "b2258360-1bdb-4021-b3de-34f1de9374bd"
      },
      "execution_count": 24,
      "outputs": [
        {
          "output_type": "stream",
          "name": "stdout",
          "text": [
            "Number of positive labels (valication): 64\n",
            "Number of neutral labels (valication): 17\n",
            "Number of negative labels (valication): 27\n"
          ]
        }
      ]
    },
    {
      "cell_type": "code",
      "source": [
        "# to ensure correct values in sparse softmax\n",
        "validation['label'] = validation['label'].apply(lambda x: 2 if x==-1 else x)"
      ],
      "metadata": {
        "id": "H2M4DBN_Dlpu"
      },
      "execution_count": 68,
      "outputs": []
    },
    {
      "cell_type": "code",
      "source": [
        "AUTOTUNE = tf.data.AUTOTUNE\n",
        "batch_size = 32\n",
        "seed = 42\n",
        "\n",
        "train_feat = training['criteria']\n",
        "tf.convert_to_tensor(train_feat)\n",
        "train_label = training['label']\n",
        "tf.convert_to_tensor(train_label)\n",
        "\n",
        "val_feat = validation['criteria']\n",
        "tf.convert_to_tensor(val_feat)\n",
        "val_label = validation['label']\n",
        "tf.convert_to_tensor(val_label)\n",
        "\n",
        "train_data = (tf.data.Dataset.from_tensor_slices((train_feat, train_label))\n",
        "                             .batch(batch_size=batch_size))\n",
        "val_data = (tf.data.Dataset.from_tensor_slices((val_feat, val_label))\n",
        "                            .batch(batch_size=batch_size))\n",
        "\n",
        "train_ds = train_data.cache().prefetch(buffer_size=AUTOTUNE)\n",
        "\n",
        "test_ds = val_data.cache().prefetch(buffer_size=AUTOTUNE)\n",
        "\n",
        "val_ds = test_ds\n"
      ],
      "metadata": {
        "id": "PjlNH8qW8n49"
      },
      "execution_count": 69,
      "outputs": []
    },
    {
      "cell_type": "markdown",
      "source": [
        "## Add random neutral sentences"
      ],
      "metadata": {
        "id": "KRe2_3xG8CDI"
      }
    },
    {
      "cell_type": "markdown",
      "source": [
        "##Generate data augmentations"
      ],
      "metadata": {
        "id": "Ktgn8UJN5rED"
      }
    },
    {
      "cell_type": "markdown",
      "source": [
        "## Model"
      ],
      "metadata": {
        "id": "qtxiG3ui5vhJ"
      }
    },
    {
      "cell_type": "code",
      "source": [
        "preprocess_path = \"https://tfhub.dev/tensorflow/bert_en_uncased_preprocess/3\"\n",
        "encoder_path = \"https://tfhub.dev/tensorflow/small_bert/bert_en_uncased_L-8_H-256_A-4/2\"\n",
        "\n",
        "preprocessor = hub.KerasLayer(\n",
        "    preprocess_path)\n",
        "encoder = hub.KerasLayer(\n",
        "    encoder_path,\n",
        "    trainable=True)"
      ],
      "metadata": {
        "id": "EZuykG7U5wO3"
      },
      "execution_count": 70,
      "outputs": []
    },
    {
      "cell_type": "code",
      "source": [
        "def social_classifier():\n",
        "  text_input = tf.keras.layers.Input(shape=(), dtype=tf.string, name='text')\n",
        "  preprocesser = hub.KerasLayer(preprocess_path, name='preprocessing')\n",
        "  encoder_inputs = preprocesser(text_input)\n",
        "  encoder = hub.KerasLayer(encoder_path, trainable=True, name='BERT_encoder')\n",
        "  outputs = encoder(encoder_inputs)\n",
        "  net = outputs['pooled_output']\n",
        "  net = tf.keras.layers.Dropout(0.1)(net)\n",
        "  net = tf.keras.layers.Dense(3, activation=None, name='classifier')(net)\n",
        "  return tf.keras.Model(text_input, net)"
      ],
      "metadata": {
        "id": "I3ghe3pwAG2B"
      },
      "execution_count": 71,
      "outputs": []
    },
    {
      "cell_type": "code",
      "source": [
        "classifier_model = social_classifier()\n",
        "tf.keras.utils.plot_model(classifier_model)\n"
      ],
      "metadata": {
        "colab": {
          "base_uri": "https://localhost:8080/",
          "height": 466
        },
        "id": "iOmlFdcjA2BC",
        "outputId": "12f3006c-ea1f-4acc-df5a-ac7436bf4820"
      },
      "execution_count": 72,
      "outputs": [
        {
          "output_type": "execute_result",
          "data": {
            "text/plain": [
              "<IPython.core.display.Image object>"
            ],
            "image/png": "[encoded data removed]"
          },
          "metadata": {},
          "execution_count": 72
        }
      ]
    },
    {
      "cell_type": "markdown",
      "source": [
        "## Training"
      ],
      "metadata": {
        "id": "oGJze1QF9z9N"
      }
    },
    {
      "cell_type": "code",
      "source": [
        "loss = tf.keras.losses.SparseCategoricalCrossentropy(from_logits=True)\n",
        "metrics = tf.keras.metrics.SparseCategoricalAccuracy(name='acc')"
      ],
      "metadata": {
        "id": "dgfwQXdzBIbX"
      },
      "execution_count": 74,
      "outputs": []
    },
    {
      "cell_type": "code",
      "source": [
        "#using same optimzer and lr schedule as original BERT\n",
        "epochs = 5\n",
        "steps_per_epoch = tf.data.experimental.cardinality(train_ds).numpy()\n",
        "num_train_steps = steps_per_epoch * epochs\n",
        "num_warmup_steps = int(0.1*num_train_steps)\n",
        "\n",
        "init_lr = 3e-5\n",
        "optimizer = optimization.create_optimizer(init_lr=init_lr,\n",
        "                                          num_train_steps=num_train_steps,\n",
        "                                          num_warmup_steps=num_warmup_steps,\n",
        "                                          optimizer_type='adamw')\n"
      ],
      "metadata": {
        "id": "BMn9s_xVBOh7"
      },
      "execution_count": 75,
      "outputs": []
    },
    {
      "cell_type": "code",
      "source": [
        "classifier_model.compile(optimizer=optimizer,\n",
        "                         loss=loss,\n",
        "                         metrics=metrics)"
      ],
      "metadata": {
        "id": "e9j3zS2EBXj1"
      },
      "execution_count": 76,
      "outputs": []
    },
    {
      "cell_type": "code",
      "source": [
        "print(f'Training model with Bert')\n",
        "history = classifier_model.fit(x=train_ds,\n",
        "                               validation_data=test_ds,\n",
        "                               epochs=epochs)"
      ],
      "metadata": {
        "colab": {
          "base_uri": "https://localhost:8080/"
        },
        "id": "YYwOGbK6BX_I",
        "outputId": "ac71f9c9-c7a6-42ae-8c0f-bf9d8d076921"
      },
      "execution_count": 77,
      "outputs": [
        {
          "output_type": "stream",
          "name": "stdout",
          "text": [
            "Training model with Bert\n",
            "Epoch 1/5\n",
            "18/18 [==============================] - 125s 6s/step - loss: 1.1227 - acc: 0.5293 - val_loss: 0.9682 - val_acc: 0.5926\n",
            "Epoch 2/5\n",
            "18/18 [==============================] - 99s 6s/step - loss: 0.8209 - acc: 0.6803 - val_loss: 0.8775 - val_acc: 0.5926\n",
            "Epoch 3/5\n",
            "18/18 [==============================] - 106s 6s/step - loss: 0.7632 - acc: 0.6892 - val_loss: 0.8274 - val_acc: 0.6296\n",
            "Epoch 4/5\n",
            "18/18 [==============================] - 99s 6s/step - loss: 0.7219 - acc: 0.7034 - val_loss: 0.8126 - val_acc: 0.6481\n",
            "Epoch 5/5\n",
            "18/18 [==============================] - 93s 5s/step - loss: 0.7040 - acc: 0.6998 - val_loss: 0.8018 - val_acc: 0.6481\n"
          ]
        }
      ]
    },
    {
      "cell_type": "code",
      "source": [
        "loss, accuracy = classifier_model.evaluate(test_ds)\n",
        "\n",
        "print(f'Loss: {loss}')\n",
        "print(f'Accuracy: {accuracy}')"
      ],
      "metadata": {
        "colab": {
          "base_uri": "https://localhost:8080/"
        },
        "id": "ylEKZ-ZdBhxY",
        "outputId": "9683eeab-ec75-4562-ef11-40aaea94f542"
      },
      "execution_count": 78,
      "outputs": [
        {
          "output_type": "stream",
          "name": "stdout",
          "text": [
            "4/4 [==============================] - 5s 1s/step - loss: 0.8018 - acc: 0.6481\n",
            "Loss: 0.8017894625663757\n",
            "Accuracy: 0.6481481194496155\n"
          ]
        }
      ]
    },
    {
      "cell_type": "markdown",
      "source": [
        "## Plotting accuracy over time"
      ],
      "metadata": {
        "id": "vyRetzb_9w09"
      }
    },
    {
      "cell_type": "code",
      "source": [
        "history_dict = history.history\n",
        "print(history_dict.keys())\n",
        "\n",
        "acc = history_dict['acc']\n",
        "val_acc = history_dict['val_acc']\n",
        "loss = history_dict['loss']\n",
        "val_loss = history_dict['val_loss']\n",
        "\n",
        "epochs = range(1, len(acc) + 1)\n",
        "fig = plt.figure(figsize=(10, 6))\n",
        "fig.tight_layout()\n",
        "\n",
        "plt.subplot(2, 1, 1)\n",
        "# r is for \"solid red line\"\n",
        "plt.plot(epochs, loss, 'r', label='Training loss')\n",
        "# b is for \"solid blue line\"\n",
        "plt.plot(epochs, val_loss, 'b', label='Validation loss')\n",
        "plt.title('Training and validation loss')\n",
        "# plt.xlabel('Epochs')\n",
        "plt.ylabel('Loss')\n",
        "plt.legend()\n",
        "\n",
        "plt.subplot(2, 1, 2)\n",
        "plt.plot(epochs, acc, 'r', label='Training acc')\n",
        "plt.plot(epochs, val_acc, 'b', label='Validation acc')\n",
        "plt.title('Training and validation accuracy')\n",
        "plt.xlabel('Epochs')\n",
        "plt.ylabel('Accuracy')\n",
        "plt.legend(loc='lower right')"
      ],
      "metadata": {
        "colab": {
          "base_uri": "https://localhost:8080/",
          "height": 438
        },
        "id": "w0RQGc5C9v-m",
        "outputId": "b2a7f27c-bc49-47d8-c42b-62c8a4494f3b"
      },
      "execution_count": 84,
      "outputs": [
        {
          "output_type": "stream",
          "name": "stdout",
          "text": [
            "dict_keys(['loss', 'acc', 'val_loss', 'val_acc'])\n"
          ]
        },
        {
          "output_type": "execute_result",
          "data": {
            "text/plain": [
              "<matplotlib.legend.Legend at 0x7f2cb6895d10>"
            ]
          },
          "metadata": {},
          "execution_count": 84
        },
        {
          "output_type": "display_data",
          "data": {
            "text/plain": [
              "<Figure size 720x432 with 2 Axes>"
            ],
            "image/png": "[encoded data removed]"
          },
          "metadata": {
            "needs_background": "light"
          }
        }
      ]
    },
    {
      "cell_type": "markdown",
      "source": [
        "##Saving model"
      ],
      "metadata": {
        "id": "PjQOL5vX92Uw"
      }
    },
    {
      "cell_type": "code",
      "source": [
        "model_path = 'social_score_csr_reports/models/model'\n",
        "\n",
        "classifier_model.save(model_path, include_optimizer=False)"
      ],
      "metadata": {
        "colab": {
          "base_uri": "https://localhost:8080/"
        },
        "id": "H0tHd-8x-Awg",
        "outputId": "40132458-4e4e-4d30-9158-612dfd17ea95"
      },
      "execution_count": 85,
      "outputs": [
        {
          "output_type": "stream",
          "name": "stderr",
          "text": [
            "WARNING:absl:Found untraced functions such as restored_function_body, restored_function_body, restored_function_body, restored_function_body, restored_function_body while saving (showing 5 of 246). These functions will not be directly callable after loading.\n"
          ]
        }
      ]
    },
    {
      "cell_type": "markdown",
      "source": [
        "##Loading model"
      ],
      "metadata": {
        "id": "K6yk5bvV-OMb"
      }
    },
    {
      "cell_type": "code",
      "source": [
        "reloaded_model = tf.saved_model.load(model_path)\n"
      ],
      "metadata": {
        "id": "qBKu5ezn-K8S"
      },
      "execution_count": 86,
      "outputs": []
    },
    {
      "cell_type": "code",
      "source": [
        "def print_my_examples(inputs, results):\n",
        "  print(\"Scores is on the format: neutral, positive, negative\")\n",
        "  result_for_printing = \\\n",
        "    [f'input: {inputs[i]:<30} : \\nscores: {results[i]}'\n",
        "                         for i in range(len(inputs))]\n",
        "  print(*result_for_printing, sep='\\n')\n",
        "  print()\n",
        "\n",
        "\n",
        "examples = [\n",
        "    #Facebook example\n",
        "    'In 2020, we continued to provide a framework of policies, standards, and implementation expectations to guide our supplier business relationships',\n",
        "    'In 2020, we conducted risk assessments to help us identify and prioritize the most critical issue areas and suppliers. ',\n",
        "    #Cola examples\n",
        "    'We invest in charitable and community causes in all of our markets and our people regularly take part in volunteering activities to support social initiatives in our communities.',\n",
        "    'As signatories of the Valuable 500 pledge, we are committed to putting disability on the business leadership agenda',\n",
        "    #Fake examples\n",
        "    'Our diversity was reduced this year',\n",
        "    'Football is a sport',\n",
        "    #Cola examples\n",
        "    'In 2020, 35.6% of leadership positions were held by women, up from 35.5% in 2019. ',\n",
        "    'Zero fatalities occurred during the year'\n",
        "]\n",
        "\n",
        "reloaded_results = tf.nn.softmax(reloaded_model(tf.constant(examples)))\n",
        "\n",
        "print('Results from the model:')\n",
        "print_my_examples(examples, reloaded_results)"
      ],
      "metadata": {
        "colab": {
          "base_uri": "https://localhost:8080/"
        },
        "id": "uBTY1Q3m-SZy",
        "outputId": "bd3d81c7-a8cb-4e70-ce3f-8d19bef988f8"
      },
      "execution_count": 90,
      "outputs": [
        {
          "output_type": "stream",
          "name": "stdout",
          "text": [
            "Results from the model:\n",
            "Scores is on the format: neutral, positive, negative\n",
            "input: In 2020, we continued to provide a framework of policies, standards, and implementation expectations to guide our supplier business relationships : \n",
            "scores: [0.09062777 0.7698006  0.13957173]\n",
            "input: In 2020, we conducted risk assessments to help us identify and prioritize the most critical issue areas and suppliers.  : \n",
            "scores: [0.09333372 0.7312666  0.17539963]\n",
            "input: We invest in charitable and community causes in all of our markets and our people regularly take part in volunteering activities to support social initiatives in our communities. : \n",
            "scores: [0.06588159 0.8229718  0.11114655]\n",
            "input: As signatories of the Valuable 500 pledge, we are committed to putting disability on the business leadership agenda : \n",
            "scores: [0.10861464 0.63509244 0.25629297]\n",
            "input: Our diversity was reduced this year : \n",
            "scores: [0.03579698 0.55751705 0.40668595]\n",
            "input: Football is a sport            : \n",
            "scores: [0.08992761 0.7166407  0.19343166]\n",
            "input: In 2020, 35.6% of leadership positions were held by women, up from 35.5% in 2019.  : \n",
            "scores: [0.05281756 0.18726537 0.75991714]\n",
            "input: Zero fatalities occurred during the year : \n",
            "scores: [0.12818073 0.49609828 0.375721  ]\n",
            "\n"
          ]
        }
      ]
    },
    {
      "cell_type": "code",
      "source": [
        ""
      ],
      "metadata": {
        "id": "Tc2C3ilaIUZL"
      },
      "execution_count": null,
      "outputs": []
    }
  ]
}